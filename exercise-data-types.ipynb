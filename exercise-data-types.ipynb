{
 "cells": [
  {
   "cell_type": "markdown",
   "id": "d7e714b2",
   "metadata": {
    "papermill": {
     "duration": 0.00712,
     "end_time": "2023-04-22T07:00:10.300494",
     "exception": false,
     "start_time": "2023-04-22T07:00:10.293374",
     "status": "completed"
    },
    "tags": []
   },
   "source": [
    "**This notebook is an exercise in the [Intro to Programming](https://www.kaggle.com/learn/intro-to-programming) course.  You can reference the tutorial at [this link](https://www.kaggle.com/alexisbcook/data-types).**\n",
    "\n",
    "---\n"
   ]
  },
  {
   "cell_type": "markdown",
   "id": "7599a719",
   "metadata": {
    "papermill": {
     "duration": 0.006921,
     "end_time": "2023-04-22T07:00:10.313636",
     "exception": false,
     "start_time": "2023-04-22T07:00:10.306715",
     "status": "completed"
    },
    "tags": []
   },
   "source": [
    "In the tutorial, you learned about four different data types: floats, integers, strings, and booleans.  In this exercise, you'll experiment with them.\n",
    "\n",
    "# Set up the notebook\n",
    "\n",
    "Run the next code cell without changes to set up the notebook."
   ]
  },
  {
   "cell_type": "code",
   "execution_count": 1,
   "id": "606a6800",
   "metadata": {
    "execution": {
     "iopub.execute_input": "2023-04-22T07:00:10.331134Z",
     "iopub.status.busy": "2023-04-22T07:00:10.330538Z",
     "iopub.status.idle": "2023-04-22T07:00:10.382870Z",
     "shell.execute_reply": "2023-04-22T07:00:10.381780Z"
    },
    "papermill": {
     "duration": 0.066194,
     "end_time": "2023-04-22T07:00:10.385530",
     "exception": false,
     "start_time": "2023-04-22T07:00:10.319336",
     "status": "completed"
    },
    "tags": []
   },
   "outputs": [
    {
     "name": "stdout",
     "output_type": "stream",
     "text": [
      "Setup complete.\n"
     ]
    }
   ],
   "source": [
    "# Set up the exercise\n",
    "from learntools.core import binder\n",
    "binder.bind(globals())\n",
    "from learntools.intro_to_programming.ex3 import *\n",
    "print('Setup complete.')"
   ]
  },
  {
   "cell_type": "markdown",
   "id": "a4332543",
   "metadata": {
    "papermill": {
     "duration": 0.005222,
     "end_time": "2023-04-22T07:00:10.396820",
     "exception": false,
     "start_time": "2023-04-22T07:00:10.391598",
     "status": "completed"
    },
    "tags": []
   },
   "source": [
    "# Question 1\n",
    "\n",
    "You have seen how to convert a float to an integer with the `int` function.  Try this out yourself by running the code cell below."
   ]
  },
  {
   "cell_type": "code",
   "execution_count": 2,
   "id": "e66f5589",
   "metadata": {
    "execution": {
     "iopub.execute_input": "2023-04-22T07:00:10.410430Z",
     "iopub.status.busy": "2023-04-22T07:00:10.409797Z",
     "iopub.status.idle": "2023-04-22T07:00:10.415673Z",
     "shell.execute_reply": "2023-04-22T07:00:10.414608Z"
    },
    "papermill": {
     "duration": 0.015469,
     "end_time": "2023-04-22T07:00:10.418112",
     "exception": false,
     "start_time": "2023-04-22T07:00:10.402643",
     "status": "completed"
    },
    "tags": []
   },
   "outputs": [
    {
     "name": "stdout",
     "output_type": "stream",
     "text": [
      "1.12313\n",
      "<class 'float'>\n",
      "1\n",
      "<class 'int'>\n"
     ]
    }
   ],
   "source": [
    "# Define a float\n",
    "y = 1.12313\n",
    "print(y)\n",
    "print(type(y))\n",
    "\n",
    "# Convert float to integer with the int function\n",
    "z = int(y)\n",
    "print(z)\n",
    "print(type(z))"
   ]
  },
  {
   "cell_type": "markdown",
   "id": "2e9727b8",
   "metadata": {
    "papermill": {
     "duration": 0.005801,
     "end_time": "2023-04-22T07:00:10.429936",
     "exception": false,
     "start_time": "2023-04-22T07:00:10.424135",
     "status": "completed"
    },
    "tags": []
   },
   "source": [
    "In this case, the float you are using has no numbers after the decimal.  \n",
    "- But what happens when you try to convert a float with a fractional part to an integer?  \n",
    "- How does the outcome of the `int` function change for positive and negative numbers?\n",
    "\n",
    "Use the next code cell to investigate and answer these questions.  Feel free to add or remove any lines of code -- it is your workspace!"
   ]
  },
  {
   "cell_type": "code",
   "execution_count": 3,
   "id": "fb0883e8",
   "metadata": {
    "execution": {
     "iopub.execute_input": "2023-04-22T07:00:10.443088Z",
     "iopub.status.busy": "2023-04-22T07:00:10.442722Z",
     "iopub.status.idle": "2023-04-22T07:00:10.448436Z",
     "shell.execute_reply": "2023-04-22T07:00:10.447367Z"
    },
    "papermill": {
     "duration": 0.014998,
     "end_time": "2023-04-22T07:00:10.450770",
     "exception": false,
     "start_time": "2023-04-22T07:00:10.435772",
     "status": "completed"
    },
    "tags": []
   },
   "outputs": [
    {
     "name": "stdout",
     "output_type": "stream",
     "text": [
      "1\n",
      "1\n",
      "-3\n",
      "-2\n"
     ]
    }
   ],
   "source": [
    "# Uncomment and run this code to get started!\n",
    "print(int(1.2321))\n",
    "print(int(1.747))\n",
    "print(int(-3.94535))\n",
    "print(int(-2.19774))"
   ]
  },
  {
   "cell_type": "markdown",
   "id": "b1d932a6",
   "metadata": {
    "papermill": {
     "duration": 0.005927,
     "end_time": "2023-04-22T07:00:10.462392",
     "exception": false,
     "start_time": "2023-04-22T07:00:10.456465",
     "status": "completed"
    },
    "tags": []
   },
   "source": [
    "Once you have an answer, run the code cell below to see the solution.  Viewing the solution will give you credit for answering the problem."
   ]
  },
  {
   "cell_type": "code",
   "execution_count": 4,
   "id": "a0d22fb7",
   "metadata": {
    "execution": {
     "iopub.execute_input": "2023-04-22T07:00:10.475734Z",
     "iopub.status.busy": "2023-04-22T07:00:10.474870Z",
     "iopub.status.idle": "2023-04-22T07:00:10.483075Z",
     "shell.execute_reply": "2023-04-22T07:00:10.482367Z"
    },
    "papermill": {
     "duration": 0.016838,
     "end_time": "2023-04-22T07:00:10.484974",
     "exception": false,
     "start_time": "2023-04-22T07:00:10.468136",
     "status": "completed"
    },
    "tags": []
   },
   "outputs": [
    {
     "data": {
      "application/javascript": [
       "parent.postMessage({\"jupyterEvent\": \"custom.exercise_interaction\", \"data\": {\"outcomeType\": 1, \"valueTowardsCompletion\": 0.2, \"interactionType\": 1, \"questionType\": 4, \"questionId\": \"1_FloatToInt\", \"learnToolsVersion\": \"0.3.4\", \"failureMessage\": \"\", \"exceptionClass\": \"\", \"trace\": \"\"}}, \"*\")"
      ],
      "text/plain": [
       "<IPython.core.display.Javascript object>"
      ]
     },
     "metadata": {},
     "output_type": "display_data"
    },
    {
     "data": {
      "text/markdown": [
       "<span style=\"color:#33cc33\">Correct:</span> \n",
       "\n",
       "Negative floats are always rounded UP to the closest integer (for instance, both -1.1 and -1.9 are rounded up to -1). Positive floats are always rounded DOWN to the closest integer (for instance, 2.1 and 2.9 are rounded down to 2)."
      ],
      "text/plain": [
       "Correct: \n",
       "\n",
       "Negative floats are always rounded UP to the closest integer (for instance, both -1.1 and -1.9 are rounded up to -1). Positive floats are always rounded DOWN to the closest integer (for instance, 2.1 and 2.9 are rounded down to 2)."
      ]
     },
     "metadata": {},
     "output_type": "display_data"
    }
   ],
   "source": [
    "# Check your answer (Run this code cell to receive credit!)\n",
    "q1.check()"
   ]
  },
  {
   "cell_type": "markdown",
   "id": "1bbb389a",
   "metadata": {
    "papermill": {
     "duration": 0.005752,
     "end_time": "2023-04-22T07:00:10.496877",
     "exception": false,
     "start_time": "2023-04-22T07:00:10.491125",
     "status": "completed"
    },
    "tags": []
   },
   "source": [
    "# Question 2\n",
    "\n",
    "In the tutorial, you learned about booleans (which can take a value of `True` or `False`), in addition to integers, floats, and strings.  For this question, your goal is to determine what happens when you multiply a boolean by any of these data types.  Specifically, \n",
    "- What happens when you multiply an integer or float by `True`?  What happens when you multiply them by `False`?  How does the answer change if the numbers are positive or negative?\n",
    "- What happens when you multiply a string by `True`?  By `False`?\n",
    "\n",
    "Use the next code cell for your investigation. "
   ]
  },
  {
   "cell_type": "code",
   "execution_count": 5,
   "id": "31214b9f",
   "metadata": {
    "execution": {
     "iopub.execute_input": "2023-04-22T07:00:10.510420Z",
     "iopub.status.busy": "2023-04-22T07:00:10.510038Z",
     "iopub.status.idle": "2023-04-22T07:00:10.516326Z",
     "shell.execute_reply": "2023-04-22T07:00:10.515193Z"
    },
    "papermill": {
     "duration": 0.015763,
     "end_time": "2023-04-22T07:00:10.518510",
     "exception": false,
     "start_time": "2023-04-22T07:00:10.502747",
     "status": "completed"
    },
    "tags": []
   },
   "outputs": [
    {
     "name": "stdout",
     "output_type": "stream",
     "text": [
      "3\n",
      "-3.1\n",
      "<class 'str'>\n",
      "0\n"
     ]
    }
   ],
   "source": [
    "# Uncomment and run this code to get started!\n",
    "print(3 * True)\n",
    "print(-3.1 * True)\n",
    "print(type(\"abc\" * False))\n",
    "print(len(\"abc\" * False))"
   ]
  },
  {
   "cell_type": "markdown",
   "id": "830e6b12",
   "metadata": {
    "papermill": {
     "duration": 0.006139,
     "end_time": "2023-04-22T07:00:10.531863",
     "exception": false,
     "start_time": "2023-04-22T07:00:10.525724",
     "status": "completed"
    },
    "tags": []
   },
   "source": [
    "Once you have an answer, run the code cell below to see the solution.  Viewing the solution will give you credit for answering the problem."
   ]
  },
  {
   "cell_type": "code",
   "execution_count": 6,
   "id": "18cd56f6",
   "metadata": {
    "execution": {
     "iopub.execute_input": "2023-04-22T07:00:10.546296Z",
     "iopub.status.busy": "2023-04-22T07:00:10.545286Z",
     "iopub.status.idle": "2023-04-22T07:00:10.554257Z",
     "shell.execute_reply": "2023-04-22T07:00:10.553252Z"
    },
    "papermill": {
     "duration": 0.018535,
     "end_time": "2023-04-22T07:00:10.556500",
     "exception": false,
     "start_time": "2023-04-22T07:00:10.537965",
     "status": "completed"
    },
    "tags": []
   },
   "outputs": [
    {
     "data": {
      "application/javascript": [
       "parent.postMessage({\"jupyterEvent\": \"custom.exercise_interaction\", \"data\": {\"outcomeType\": 1, \"valueTowardsCompletion\": 0.2, \"interactionType\": 1, \"questionType\": 4, \"questionId\": \"2_MultiplyBooleans\", \"learnToolsVersion\": \"0.3.4\", \"failureMessage\": \"\", \"exceptionClass\": \"\", \"trace\": \"\"}}, \"*\")"
      ],
      "text/plain": [
       "<IPython.core.display.Javascript object>"
      ]
     },
     "metadata": {},
     "output_type": "display_data"
    },
    {
     "data": {
      "text/markdown": [
       "<span style=\"color:#33cc33\">Correct:</span> \n",
       "\n",
       "When you multiple an integer or float by a boolean with value `True`, it just returns that same integer or float (and is equivalent to multiplying by 1).  If you multiply an integer or float by a boolean with value `False`, it always returns 0.  This is true for both positive and negative numbers.  If you multiply a string by a boolean with value `True`, it just returns that same string.  And if you multiply a string by a boolean with value `False`, it returns an empty string (or a string with length zero)."
      ],
      "text/plain": [
       "Correct: \n",
       "\n",
       "When you multiple an integer or float by a boolean with value `True`, it just returns that same integer or float (and is equivalent to multiplying by 1).  If you multiply an integer or float by a boolean with value `False`, it always returns 0.  This is true for both positive and negative numbers.  If you multiply a string by a boolean with value `True`, it just returns that same string.  And if you multiply a string by a boolean with value `False`, it returns an empty string (or a string with length zero)."
      ]
     },
     "metadata": {},
     "output_type": "display_data"
    }
   ],
   "source": [
    "# Check your answer (Run this code cell to receive credit!)\n",
    "q2.check()"
   ]
  },
  {
   "cell_type": "markdown",
   "id": "9eaa21d8",
   "metadata": {
    "papermill": {
     "duration": 0.006278,
     "end_time": "2023-04-22T07:00:10.569610",
     "exception": false,
     "start_time": "2023-04-22T07:00:10.563332",
     "status": "completed"
    },
    "tags": []
   },
   "source": [
    "# Question 3\n",
    "\n",
    "In this question, you will build off your work from the previous exercise to write a function that estimates the value of a house.\n",
    "\n",
    "Use the next code cell to create a function `get_expected_cost` that takes as input three variables:\n",
    "- `beds` - number of bedrooms (data type float)\n",
    "- `baths` - number of bathrooms (data type float)\n",
    "- `has_basement` - whether or not the house has a basement (data type boolean)\n",
    "\n",
    "It should return the expected cost of a house with those characteristics. Assume that:\n",
    "- the expected cost for a house with 0 bedrooms and 0 bathrooms, and no basement is 80000, \n",
    "- each bedroom adds 30000 to the expected cost,\n",
    "- each bathroom adds 10000 to the expected cost, and\n",
    "- a basement adds 40000 to the expected cost.\n",
    "\n",
    "For instance,\n",
    "- a house with 1 bedroom, 1 bathroom, and no basement has an expected cost of 80000 + 30000 + 10000 = 120000.  This value will be calculated with `get_expected_cost(1, 1, False)`.\n",
    "- a house with 2 bedrooms, 1 bathroom, and a basement has an expected cost of 80000 + 2*30000 + 10000 + 40000 = 190000.  This value will be calculated with `get_expected_cost(2, 1, True)`.\n",
    "\n",
    "Remember you can always get a hint by uncommenting `q3.hint()` in the code cell following the next!"
   ]
  },
  {
   "cell_type": "code",
   "execution_count": 7,
   "id": "744effd9",
   "metadata": {
    "execution": {
     "iopub.execute_input": "2023-04-22T07:00:10.583915Z",
     "iopub.status.busy": "2023-04-22T07:00:10.583540Z",
     "iopub.status.idle": "2023-04-22T07:00:10.592209Z",
     "shell.execute_reply": "2023-04-22T07:00:10.591373Z"
    },
    "papermill": {
     "duration": 0.018761,
     "end_time": "2023-04-22T07:00:10.594512",
     "exception": false,
     "start_time": "2023-04-22T07:00:10.575751",
     "status": "completed"
    },
    "tags": []
   },
   "outputs": [
    {
     "data": {
      "application/javascript": [
       "parent.postMessage({\"jupyterEvent\": \"custom.exercise_interaction\", \"data\": {\"outcomeType\": 1, \"valueTowardsCompletion\": 0.2, \"interactionType\": 1, \"questionType\": 2, \"questionId\": \"3_EstimateHouseValueBool\", \"learnToolsVersion\": \"0.3.4\", \"failureMessage\": \"\", \"exceptionClass\": \"\", \"trace\": \"\"}}, \"*\")"
      ],
      "text/plain": [
       "<IPython.core.display.Javascript object>"
      ]
     },
     "metadata": {},
     "output_type": "display_data"
    },
    {
     "data": {
      "text/markdown": [
       "<span style=\"color:#33cc33\">Correct</span>"
      ],
      "text/plain": [
       "Correct"
      ]
     },
     "metadata": {},
     "output_type": "display_data"
    }
   ],
   "source": [
    "# TODO: Complete the function\n",
    "def get_expected_cost(beds, baths, has_basement):\n",
    "    \n",
    "    value = ((beds * 30000)  + (baths * 10000) + 80000) + (has_basement * 40000)\n",
    "    return value\n",
    "\n",
    "# Check your answer \n",
    "q3.check()"
   ]
  },
  {
   "cell_type": "code",
   "execution_count": 8,
   "id": "379e09bd",
   "metadata": {
    "execution": {
     "iopub.execute_input": "2023-04-22T07:00:10.610162Z",
     "iopub.status.busy": "2023-04-22T07:00:10.609376Z",
     "iopub.status.idle": "2023-04-22T07:00:10.620160Z",
     "shell.execute_reply": "2023-04-22T07:00:10.619098Z"
    },
    "papermill": {
     "duration": 0.020688,
     "end_time": "2023-04-22T07:00:10.622253",
     "exception": false,
     "start_time": "2023-04-22T07:00:10.601565",
     "status": "completed"
    },
    "tags": []
   },
   "outputs": [
    {
     "data": {
      "application/javascript": [
       "parent.postMessage({\"jupyterEvent\": \"custom.exercise_interaction\", \"data\": {\"interactionType\": 2, \"questionType\": 2, \"questionId\": \"3_EstimateHouseValueBool\", \"learnToolsVersion\": \"0.3.4\", \"valueTowardsCompletion\": 0.0, \"failureMessage\": \"\", \"exceptionClass\": \"\", \"trace\": \"\", \"outcomeType\": 4}}, \"*\")"
      ],
      "text/plain": [
       "<IPython.core.display.Javascript object>"
      ]
     },
     "metadata": {},
     "output_type": "display_data"
    },
    {
     "data": {
      "text/markdown": [
       "<span style=\"color:#3366cc\">Hint:</span> The variable `has_basement` is either `True` or `False`.  What happens when you multiply it by 40000 (the value of a basement)?  Refer to the previous question if you are unsure."
      ],
      "text/plain": [
       "Hint: The variable `has_basement` is either `True` or `False`.  What happens when you multiply it by 40000 (the value of a basement)?  Refer to the previous question if you are unsure."
      ]
     },
     "metadata": {},
     "output_type": "display_data"
    },
    {
     "data": {
      "application/javascript": [
       "parent.postMessage({\"jupyterEvent\": \"custom.exercise_interaction\", \"data\": {\"interactionType\": 3, \"questionType\": 2, \"questionId\": \"3_EstimateHouseValueBool\", \"learnToolsVersion\": \"0.3.4\", \"valueTowardsCompletion\": 0.0, \"failureMessage\": \"\", \"exceptionClass\": \"\", \"trace\": \"\", \"outcomeType\": 4}}, \"*\")"
      ],
      "text/plain": [
       "<IPython.core.display.Javascript object>"
      ]
     },
     "metadata": {},
     "output_type": "display_data"
    },
    {
     "data": {
      "text/markdown": [
       "<span style=\"color:#33cc99\">Solution:</span> \n",
       "```python\n",
       "def get_expected_cost(beds, baths, has_basement):\n",
       "    value = 80000 + 30000 * beds + 10000 * baths + 40000 * has_basement\n",
       "    return value\n",
       "\n",
       "```"
      ],
      "text/plain": [
       "Solution: \n",
       "```python\n",
       "def get_expected_cost(beds, baths, has_basement):\n",
       "    value = 80000 + 30000 * beds + 10000 * baths + 40000 * has_basement\n",
       "    return value\n",
       "\n",
       "```"
      ]
     },
     "metadata": {},
     "output_type": "display_data"
    }
   ],
   "source": [
    "# Uncomment to see a hint\n",
    "q3.hint()\n",
    "\n",
    "# Uncomment to view the solution\n",
    "q3.solution()"
   ]
  },
  {
   "cell_type": "markdown",
   "id": "91052e91",
   "metadata": {
    "papermill": {
     "duration": 0.006812,
     "end_time": "2023-04-22T07:00:10.636921",
     "exception": false,
     "start_time": "2023-04-22T07:00:10.630109",
     "status": "completed"
    },
    "tags": []
   },
   "source": [
    "# Question 4\n",
    "\n",
    "We'll continue our study of boolean arithmetic.  For this question, your task is to provide a description of what happpens when you add booleans. \n",
    "\n",
    "Use the next code cell for your investigation.  Feel free to add or remove any lines of code - use it as your workspace!"
   ]
  },
  {
   "cell_type": "code",
   "execution_count": 9,
   "id": "42697464",
   "metadata": {
    "execution": {
     "iopub.execute_input": "2023-04-22T07:00:10.653143Z",
     "iopub.status.busy": "2023-04-22T07:00:10.652151Z",
     "iopub.status.idle": "2023-04-22T07:00:10.658577Z",
     "shell.execute_reply": "2023-04-22T07:00:10.657361Z"
    },
    "papermill": {
     "duration": 0.016673,
     "end_time": "2023-04-22T07:00:10.660818",
     "exception": false,
     "start_time": "2023-04-22T07:00:10.644145",
     "status": "completed"
    },
    "tags": []
   },
   "outputs": [
    {
     "name": "stdout",
     "output_type": "stream",
     "text": [
      "0\n",
      "1\n",
      "1\n",
      "2\n",
      "3\n"
     ]
    }
   ],
   "source": [
    "print(False + False)\n",
    "print(True + False)\n",
    "print(False + True)\n",
    "print(True + True)\n",
    "print(False + True + True + True)"
   ]
  },
  {
   "cell_type": "markdown",
   "id": "8e485b49",
   "metadata": {
    "papermill": {
     "duration": 0.007289,
     "end_time": "2023-04-22T07:00:10.675667",
     "exception": false,
     "start_time": "2023-04-22T07:00:10.668378",
     "status": "completed"
    },
    "tags": []
   },
   "source": [
    "Once you have an answer, run the code cell below to see the solution.  Viewing the solution will give you credit for answering the problem."
   ]
  },
  {
   "cell_type": "code",
   "execution_count": 10,
   "id": "aadb9644",
   "metadata": {
    "execution": {
     "iopub.execute_input": "2023-04-22T07:00:10.694502Z",
     "iopub.status.busy": "2023-04-22T07:00:10.693388Z",
     "iopub.status.idle": "2023-04-22T07:00:10.703418Z",
     "shell.execute_reply": "2023-04-22T07:00:10.702076Z"
    },
    "papermill": {
     "duration": 0.023595,
     "end_time": "2023-04-22T07:00:10.706477",
     "exception": false,
     "start_time": "2023-04-22T07:00:10.682882",
     "status": "completed"
    },
    "tags": []
   },
   "outputs": [
    {
     "data": {
      "application/javascript": [
       "parent.postMessage({\"jupyterEvent\": \"custom.exercise_interaction\", \"data\": {\"outcomeType\": 1, \"valueTowardsCompletion\": 0.2, \"interactionType\": 1, \"questionType\": 4, \"questionId\": \"4_AddingBooleans\", \"learnToolsVersion\": \"0.3.4\", \"failureMessage\": \"\", \"exceptionClass\": \"\", \"trace\": \"\"}}, \"*\")"
      ],
      "text/plain": [
       "<IPython.core.display.Javascript object>"
      ]
     },
     "metadata": {},
     "output_type": "display_data"
    },
    {
     "data": {
      "text/markdown": [
       "<span style=\"color:#33cc33\">Correct:</span> \n",
       "\n",
       "When you add booleans, adding `False` is equivalent to adding 0, and adding `True` is equivalent to adding 1."
      ],
      "text/plain": [
       "Correct: \n",
       "\n",
       "When you add booleans, adding `False` is equivalent to adding 0, and adding `True` is equivalent to adding 1."
      ]
     },
     "metadata": {},
     "output_type": "display_data"
    }
   ],
   "source": [
    "# Check your answer (Run this code cell to receive credit!)\n",
    "q4.check()"
   ]
  },
  {
   "cell_type": "markdown",
   "id": "ccbe7170",
   "metadata": {
    "papermill": {
     "duration": 0.008775,
     "end_time": "2023-04-22T07:00:10.724587",
     "exception": false,
     "start_time": "2023-04-22T07:00:10.715812",
     "status": "completed"
    },
    "tags": []
   },
   "source": [
    "# 🌶️ Question 5\n",
    "\n",
    "You own an online shop where you sell rings with custom engravings.  You offer both gold plated and solid gold rings.\n",
    "- Gold plated rings have a base cost of \\\\$50, and you charge \\\\$7 per engraved unit.  \n",
    "- Solid gold rings have a base cost of \\\\$100, and you charge \\\\$10 per engraved unit.\n",
    "- Spaces and punctuation are counted as engraved units.\n",
    "\n",
    "Write a function `cost_of_project()` that takes two arguments:\n",
    "- `engraving` - a Python string with the text of the engraving\n",
    "- `solid_gold` - a Boolean that indicates whether the ring is solid gold\n",
    "\n",
    "It should return the cost of the project.  This question should be fairly challenging, and you may need a hint."
   ]
  },
  {
   "cell_type": "code",
   "execution_count": 11,
   "id": "8b012832",
   "metadata": {
    "execution": {
     "iopub.execute_input": "2023-04-22T07:00:10.746212Z",
     "iopub.status.busy": "2023-04-22T07:00:10.745805Z",
     "iopub.status.idle": "2023-04-22T07:00:10.755605Z",
     "shell.execute_reply": "2023-04-22T07:00:10.754599Z"
    },
    "papermill": {
     "duration": 0.024542,
     "end_time": "2023-04-22T07:00:10.757838",
     "exception": false,
     "start_time": "2023-04-22T07:00:10.733296",
     "status": "completed"
    },
    "tags": []
   },
   "outputs": [
    {
     "data": {
      "application/javascript": [
       "parent.postMessage({\"jupyterEvent\": \"custom.exercise_interaction\", \"data\": {\"outcomeType\": 1, \"valueTowardsCompletion\": 0.2, \"interactionType\": 1, \"questionType\": 2, \"questionId\": \"5_CustomEngravings\", \"learnToolsVersion\": \"0.3.4\", \"failureMessage\": \"\", \"exceptionClass\": \"\", \"trace\": \"\"}}, \"*\")"
      ],
      "text/plain": [
       "<IPython.core.display.Javascript object>"
      ]
     },
     "metadata": {},
     "output_type": "display_data"
    },
    {
     "data": {
      "text/markdown": [
       "<span style=\"color:#33cc33\">Correct</span>"
      ],
      "text/plain": [
       "Correct"
      ]
     },
     "metadata": {},
     "output_type": "display_data"
    }
   ],
   "source": [
    "def cost_of_project(engraving, solid_gold):\n",
    "    cost =  (not solid_gold) * ( len(engraving) * 7 + 50) + solid_gold * (len(engraving) * 10 + 100)\n",
    "    return cost\n",
    "\n",
    "# Check your answer\n",
    "q5.check()"
   ]
  },
  {
   "cell_type": "code",
   "execution_count": 12,
   "id": "ba8d720c",
   "metadata": {
    "execution": {
     "iopub.execute_input": "2023-04-22T07:00:10.775416Z",
     "iopub.status.busy": "2023-04-22T07:00:10.775055Z",
     "iopub.status.idle": "2023-04-22T07:00:10.790687Z",
     "shell.execute_reply": "2023-04-22T07:00:10.789391Z"
    },
    "papermill": {
     "duration": 0.028195,
     "end_time": "2023-04-22T07:00:10.794013",
     "exception": false,
     "start_time": "2023-04-22T07:00:10.765818",
     "status": "completed"
    },
    "tags": []
   },
   "outputs": [
    {
     "data": {
      "application/javascript": [
       "parent.postMessage({\"jupyterEvent\": \"custom.exercise_interaction\", \"data\": {\"interactionType\": 2, \"questionType\": 2, \"questionId\": \"5_CustomEngravings\", \"learnToolsVersion\": \"0.3.4\", \"valueTowardsCompletion\": 0.0, \"failureMessage\": \"\", \"exceptionClass\": \"\", \"trace\": \"\", \"outcomeType\": 4}}, \"*\")"
      ],
      "text/plain": [
       "<IPython.core.display.Javascript object>"
      ]
     },
     "metadata": {},
     "output_type": "display_data"
    },
    {
     "data": {
      "text/markdown": [
       "<span style=\"color:#3366cc\">Hint:</span> There are two options - either the project uses solid gold or does not.  With this in mind, you can structure your solution like this: `cost = solid_gold * ____ + (not solid_gold) * ____`.  You need to figure out how to fill in the blanks. Also, remember that:\n",
       "- If `solid_gold = True`, then `(not solid_gold) = False`, and if `solid_gold = False`, then `(not solid_gold) = True`.\n",
       "- Multiplying an integer by `True` is equivalent to multiplying it by 1, and multiplying an integer by `False` is equivalent to multiplying it by 0."
      ],
      "text/plain": [
       "Hint: There are two options - either the project uses solid gold or does not.  With this in mind, you can structure your solution like this: `cost = solid_gold * ____ + (not solid_gold) * ____`.  You need to figure out how to fill in the blanks. Also, remember that:\n",
       "- If `solid_gold = True`, then `(not solid_gold) = False`, and if `solid_gold = False`, then `(not solid_gold) = True`.\n",
       "- Multiplying an integer by `True` is equivalent to multiplying it by 1, and multiplying an integer by `False` is equivalent to multiplying it by 0."
      ]
     },
     "metadata": {},
     "output_type": "display_data"
    },
    {
     "data": {
      "application/javascript": [
       "parent.postMessage({\"jupyterEvent\": \"custom.exercise_interaction\", \"data\": {\"interactionType\": 3, \"questionType\": 2, \"questionId\": \"5_CustomEngravings\", \"learnToolsVersion\": \"0.3.4\", \"valueTowardsCompletion\": 0.0, \"failureMessage\": \"\", \"exceptionClass\": \"\", \"trace\": \"\", \"outcomeType\": 4}}, \"*\")"
      ],
      "text/plain": [
       "<IPython.core.display.Javascript object>"
      ]
     },
     "metadata": {},
     "output_type": "display_data"
    },
    {
     "data": {
      "text/markdown": [
       "<span style=\"color:#33cc99\">Solution:</span> \n",
       "```python\n",
       "def cost_of_project(engraving, solid_gold):\n",
       "    cost = solid_gold * (100 + 10 * len(engraving)) + (not solid_gold) * (50 + 7 * len(engraving))\n",
       "    return cost\n",
       "\n",
       "```"
      ],
      "text/plain": [
       "Solution: \n",
       "```python\n",
       "def cost_of_project(engraving, solid_gold):\n",
       "    cost = solid_gold * (100 + 10 * len(engraving)) + (not solid_gold) * (50 + 7 * len(engraving))\n",
       "    return cost\n",
       "\n",
       "```"
      ]
     },
     "metadata": {},
     "output_type": "display_data"
    }
   ],
   "source": [
    "# Uncomment to see a hint\n",
    "q5.hint()\n",
    "\n",
    "# Uncomment to view the solution\n",
    "q5.solution()"
   ]
  },
  {
   "cell_type": "markdown",
   "id": "1cbb6890",
   "metadata": {
    "papermill": {
     "duration": 0.008307,
     "end_time": "2023-04-22T07:00:10.811358",
     "exception": false,
     "start_time": "2023-04-22T07:00:10.803051",
     "status": "completed"
    },
    "tags": []
   },
   "source": [
    "Run the next code cell to calculate the cost of engraving `Charlie+Denver` on a solid gold ring."
   ]
  },
  {
   "cell_type": "code",
   "execution_count": 13,
   "id": "cb8f6df5",
   "metadata": {
    "execution": {
     "iopub.execute_input": "2023-04-22T07:00:10.830857Z",
     "iopub.status.busy": "2023-04-22T07:00:10.830491Z",
     "iopub.status.idle": "2023-04-22T07:00:10.835647Z",
     "shell.execute_reply": "2023-04-22T07:00:10.834493Z"
    },
    "papermill": {
     "duration": 0.01774,
     "end_time": "2023-04-22T07:00:10.838089",
     "exception": false,
     "start_time": "2023-04-22T07:00:10.820349",
     "status": "completed"
    },
    "tags": []
   },
   "outputs": [
    {
     "name": "stdout",
     "output_type": "stream",
     "text": [
      "240\n"
     ]
    }
   ],
   "source": [
    "project_one = cost_of_project(\"Charlie+Denver\", True)\n",
    "print(project_one)"
   ]
  },
  {
   "cell_type": "markdown",
   "id": "7b6f46ee",
   "metadata": {
    "papermill": {
     "duration": 0.007963,
     "end_time": "2023-04-22T07:00:10.854381",
     "exception": false,
     "start_time": "2023-04-22T07:00:10.846418",
     "status": "completed"
    },
    "tags": []
   },
   "source": [
    "Use the next code cell to calculate the cost of engraving `08/10/2000` on a gold plated ring."
   ]
  },
  {
   "cell_type": "code",
   "execution_count": 14,
   "id": "a90b68c8",
   "metadata": {
    "execution": {
     "iopub.execute_input": "2023-04-22T07:00:10.873070Z",
     "iopub.status.busy": "2023-04-22T07:00:10.872106Z",
     "iopub.status.idle": "2023-04-22T07:00:10.878516Z",
     "shell.execute_reply": "2023-04-22T07:00:10.877287Z"
    },
    "papermill": {
     "duration": 0.018141,
     "end_time": "2023-04-22T07:00:10.880615",
     "exception": false,
     "start_time": "2023-04-22T07:00:10.862474",
     "status": "completed"
    },
    "tags": []
   },
   "outputs": [
    {
     "name": "stdout",
     "output_type": "stream",
     "text": [
      "120\n"
     ]
    }
   ],
   "source": [
    "project_two = cost_of_project(\"08/10/2000\", False)\n",
    "print(project_two)"
   ]
  },
  {
   "cell_type": "markdown",
   "id": "fa594891",
   "metadata": {
    "papermill": {
     "duration": 0.008166,
     "end_time": "2023-04-22T07:00:10.897412",
     "exception": false,
     "start_time": "2023-04-22T07:00:10.889246",
     "status": "completed"
    },
    "tags": []
   },
   "source": [
    "# Keep going\n",
    "\n",
    "Continue to the next lesson to **[learn about conditions and conditional statements](https://www.kaggle.com/alexisbcook/conditions-and-conditional-statements)**."
   ]
  },
  {
   "cell_type": "markdown",
   "id": "9e697909",
   "metadata": {
    "papermill": {
     "duration": 0.008366,
     "end_time": "2023-04-22T07:00:10.914735",
     "exception": false,
     "start_time": "2023-04-22T07:00:10.906369",
     "status": "completed"
    },
    "tags": []
   },
   "source": [
    "---\n",
    "\n",
    "\n",
    "\n",
    "\n",
    "*Have questions or comments? Visit the [course discussion forum](https://www.kaggle.com/learn/intro-to-programming/discussion) to chat with other learners.*"
   ]
  }
 ],
 "metadata": {
  "kernelspec": {
   "display_name": "Python 3",
   "language": "python",
   "name": "python3"
  },
  "language_info": {
   "codemirror_mode": {
    "name": "ipython",
    "version": 3
   },
   "file_extension": ".py",
   "mimetype": "text/x-python",
   "name": "python",
   "nbconvert_exporter": "python",
   "pygments_lexer": "ipython3",
   "version": "3.7.12"
  },
  "papermill": {
   "default_parameters": {},
   "duration": 10.711694,
   "end_time": "2023-04-22T07:00:11.545415",
   "environment_variables": {},
   "exception": null,
   "input_path": "__notebook__.ipynb",
   "output_path": "__notebook__.ipynb",
   "parameters": {},
   "start_time": "2023-04-22T07:00:00.833721",
   "version": "2.4.0"
  }
 },
 "nbformat": 4,
 "nbformat_minor": 5
}
