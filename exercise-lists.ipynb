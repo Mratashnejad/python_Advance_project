{
 "cells": [
  {
   "cell_type": "markdown",
   "id": "23719438",
   "metadata": {
    "papermill": {
     "duration": 0.00587,
     "end_time": "2023-04-30T01:40:16.693729",
     "exception": false,
     "start_time": "2023-04-30T01:40:16.687859",
     "status": "completed"
    },
    "tags": []
   },
   "source": [
    "**This notebook is an exercise in the [Python](https://www.kaggle.com/learn/python) course.  You can reference the tutorial at [this link](https://www.kaggle.com/colinmorris/lists).**\n",
    "\n",
    "---\n"
   ]
  },
  {
   "cell_type": "markdown",
   "id": "6ed6cfc4",
   "metadata": {
    "papermill": {
     "duration": 0.004297,
     "end_time": "2023-04-30T01:40:16.702891",
     "exception": false,
     "start_time": "2023-04-30T01:40:16.698594",
     "status": "completed"
    },
    "tags": []
   },
   "source": [
    "Things get more interesting with lists. You'll apply your new knowledge to solve the questions below. Remember to run the following cell first."
   ]
  },
  {
   "cell_type": "code",
   "execution_count": 1,
   "id": "e1d16c1c",
   "metadata": {
    "execution": {
     "iopub.execute_input": "2023-04-30T01:40:16.715269Z",
     "iopub.status.busy": "2023-04-30T01:40:16.714253Z",
     "iopub.status.idle": "2023-04-30T01:40:16.764782Z",
     "shell.execute_reply": "2023-04-30T01:40:16.763401Z"
    },
    "papermill": {
     "duration": 0.060279,
     "end_time": "2023-04-30T01:40:16.767842",
     "exception": false,
     "start_time": "2023-04-30T01:40:16.707563",
     "status": "completed"
    },
    "tags": []
   },
   "outputs": [
    {
     "name": "stdout",
     "output_type": "stream",
     "text": [
      "Setup complete.\n"
     ]
    }
   ],
   "source": [
    "from learntools.core import binder; binder.bind(globals())\n",
    "from learntools.python.ex4 import *\n",
    "print('Setup complete.')"
   ]
  },
  {
   "cell_type": "markdown",
   "id": "fd1320af",
   "metadata": {
    "papermill": {
     "duration": 0.004581,
     "end_time": "2023-04-30T01:40:16.777249",
     "exception": false,
     "start_time": "2023-04-30T01:40:16.772668",
     "status": "completed"
    },
    "tags": []
   },
   "source": [
    "# 1.\n",
    "\n",
    "Complete the function below according to its docstring."
   ]
  },
  {
   "cell_type": "code",
   "execution_count": 2,
   "id": "c3fcb717",
   "metadata": {
    "execution": {
     "iopub.execute_input": "2023-04-30T01:40:16.788998Z",
     "iopub.status.busy": "2023-04-30T01:40:16.788591Z",
     "iopub.status.idle": "2023-04-30T01:40:16.800644Z",
     "shell.execute_reply": "2023-04-30T01:40:16.799171Z"
    },
    "papermill": {
     "duration": 0.021234,
     "end_time": "2023-04-30T01:40:16.803241",
     "exception": false,
     "start_time": "2023-04-30T01:40:16.782007",
     "status": "completed"
    },
    "tags": []
   },
   "outputs": [
    {
     "data": {
      "application/javascript": [
       "parent.postMessage({\"jupyterEvent\": \"custom.exercise_interaction\", \"data\": {\"outcomeType\": 1, \"valueTowardsCompletion\": 0.2, \"interactionType\": 1, \"questionType\": 2, \"questionId\": \"1_SelectSecondItem\", \"learnToolsVersion\": \"0.3.4\", \"failureMessage\": \"\", \"exceptionClass\": \"\", \"trace\": \"\"}}, \"*\")"
      ],
      "text/plain": [
       "<IPython.core.display.Javascript object>"
      ]
     },
     "metadata": {},
     "output_type": "display_data"
    },
    {
     "data": {
      "text/markdown": [
       "<span style=\"color:#33cc33\">Correct</span>"
      ],
      "text/plain": [
       "Correct"
      ]
     },
     "metadata": {},
     "output_type": "display_data"
    }
   ],
   "source": [
    "def select_second(L):\n",
    "    \"\"\"Return the second element of the given list. If the list has no second\n",
    "    element, return None.\n",
    "    \"\"\"\n",
    "    if len(L) < 2:\n",
    "        return None\n",
    "    return L[1]\n",
    "\n",
    "# Check your answer\n",
    "q1.check()"
   ]
  },
  {
   "cell_type": "code",
   "execution_count": 3,
   "id": "94f2d7f2",
   "metadata": {
    "execution": {
     "iopub.execute_input": "2023-04-30T01:40:16.815148Z",
     "iopub.status.busy": "2023-04-30T01:40:16.814762Z",
     "iopub.status.idle": "2023-04-30T01:40:16.829633Z",
     "shell.execute_reply": "2023-04-30T01:40:16.828422Z"
    },
    "papermill": {
     "duration": 0.023931,
     "end_time": "2023-04-30T01:40:16.832257",
     "exception": false,
     "start_time": "2023-04-30T01:40:16.808326",
     "status": "completed"
    },
    "tags": []
   },
   "outputs": [
    {
     "data": {
      "application/javascript": [
       "parent.postMessage({\"jupyterEvent\": \"custom.exercise_interaction\", \"data\": {\"interactionType\": 2, \"questionType\": 2, \"questionId\": \"1_SelectSecondItem\", \"learnToolsVersion\": \"0.3.4\", \"valueTowardsCompletion\": 0.0, \"failureMessage\": \"\", \"exceptionClass\": \"\", \"trace\": \"\", \"outcomeType\": 4}}, \"*\")"
      ],
      "text/plain": [
       "<IPython.core.display.Javascript object>"
      ]
     },
     "metadata": {},
     "output_type": "display_data"
    },
    {
     "data": {
      "text/markdown": [
       "<span style=\"color:#3366cc\">Hint:</span> Python starts counting at 0. So the second item isn't indexed with a 2"
      ],
      "text/plain": [
       "Hint: Python starts counting at 0. So the second item isn't indexed with a 2"
      ]
     },
     "metadata": {},
     "output_type": "display_data"
    },
    {
     "data": {
      "application/javascript": [
       "parent.postMessage({\"jupyterEvent\": \"custom.exercise_interaction\", \"data\": {\"interactionType\": 3, \"questionType\": 2, \"questionId\": \"1_SelectSecondItem\", \"learnToolsVersion\": \"0.3.4\", \"valueTowardsCompletion\": 0.0, \"failureMessage\": \"\", \"exceptionClass\": \"\", \"trace\": \"\", \"outcomeType\": 4}}, \"*\")"
      ],
      "text/plain": [
       "<IPython.core.display.Javascript object>"
      ]
     },
     "metadata": {},
     "output_type": "display_data"
    },
    {
     "data": {
      "text/markdown": [
       "<span style=\"color:#33cc99\">Solution:</span> \n",
       "```python\n",
       "def select_second(L):\n",
       "    if len(L) < 2:\n",
       "        return None\n",
       "    return L[1]\n",
       "```"
      ],
      "text/plain": [
       "Solution: \n",
       "```python\n",
       "def select_second(L):\n",
       "    if len(L) < 2:\n",
       "        return None\n",
       "    return L[1]\n",
       "```"
      ]
     },
     "metadata": {},
     "output_type": "display_data"
    }
   ],
   "source": [
    "q1.hint()\n",
    "q1.solution()"
   ]
  },
  {
   "cell_type": "markdown",
   "id": "6ac12c78",
   "metadata": {
    "papermill": {
     "duration": 0.005178,
     "end_time": "2023-04-30T01:40:16.843013",
     "exception": false,
     "start_time": "2023-04-30T01:40:16.837835",
     "status": "completed"
    },
    "tags": []
   },
   "source": [
    "# 2.\n",
    "\n",
    "You are analyzing sports teams.  Members of each team are stored in a list. The Coach is the first name in the list, the captain is the second name in the list, and other players are listed after that. \n",
    "These lists are stored in another list, which starts with the best team and proceeds through the list to the worst team last.  Complete the function below to select the **captain** of the worst team."
   ]
  },
  {
   "cell_type": "code",
   "execution_count": 4,
   "id": "0c2d5d41",
   "metadata": {
    "execution": {
     "iopub.execute_input": "2023-04-30T01:40:16.856828Z",
     "iopub.status.busy": "2023-04-30T01:40:16.855900Z",
     "iopub.status.idle": "2023-04-30T01:40:16.865231Z",
     "shell.execute_reply": "2023-04-30T01:40:16.863999Z"
    },
    "papermill": {
     "duration": 0.018678,
     "end_time": "2023-04-30T01:40:16.867562",
     "exception": false,
     "start_time": "2023-04-30T01:40:16.848884",
     "status": "completed"
    },
    "tags": []
   },
   "outputs": [
    {
     "data": {
      "application/javascript": [
       "parent.postMessage({\"jupyterEvent\": \"custom.exercise_interaction\", \"data\": {\"outcomeType\": 4, \"interactionType\": 1, \"questionType\": 2, \"questionId\": \"2_LosingTeamCaptain\", \"learnToolsVersion\": \"0.3.4\", \"valueTowardsCompletion\": 0.0, \"failureMessage\": \"\", \"exceptionClass\": \"\", \"trace\": \"\"}}, \"*\")"
      ],
      "text/plain": [
       "<IPython.core.display.Javascript object>"
      ]
     },
     "metadata": {},
     "output_type": "display_data"
    },
    {
     "data": {
      "text/markdown": [
       "<span style=\"color:#ccaa33\">Check:</span> When you've updated the starter code, `check()` will tell you whether your code is correct. "
      ],
      "text/plain": [
       "Check: When you've updated the starter code, `check()` will tell you whether your code is correct. "
      ]
     },
     "metadata": {},
     "output_type": "display_data"
    }
   ],
   "source": [
    "def losing_team_captain(teams):\n",
    "    \"\"\"Given a list of teams, where each team is a list of names, return the 2nd player (captain)\n",
    "    from the last listed team\n",
    "    \"\"\"\n",
    "    pass\n",
    "\n",
    "# Check your answer\n",
    "q2.check()"
   ]
  },
  {
   "cell_type": "code",
   "execution_count": 5,
   "id": "ff8deeb3",
   "metadata": {
    "collapsed": true,
    "execution": {
     "iopub.execute_input": "2023-04-30T01:40:16.881154Z",
     "iopub.status.busy": "2023-04-30T01:40:16.880711Z",
     "iopub.status.idle": "2023-04-30T01:40:16.885976Z",
     "shell.execute_reply": "2023-04-30T01:40:16.884659Z"
    },
    "jupyter": {
     "outputs_hidden": true
    },
    "papermill": {
     "duration": 0.014836,
     "end_time": "2023-04-30T01:40:16.888470",
     "exception": false,
     "start_time": "2023-04-30T01:40:16.873634",
     "status": "completed"
    },
    "tags": []
   },
   "outputs": [],
   "source": [
    "#q2.hint()\n",
    "#q2.solution()"
   ]
  },
  {
   "cell_type": "markdown",
   "id": "40cde31d",
   "metadata": {
    "papermill": {
     "duration": 0.005438,
     "end_time": "2023-04-30T01:40:16.899798",
     "exception": false,
     "start_time": "2023-04-30T01:40:16.894360",
     "status": "completed"
    },
    "tags": []
   },
   "source": [
    "# 3.\n",
    "\n",
    "The next iteration of Mario Kart will feature an extra-infuriating new item, the *Purple Shell*. When used, it warps the last place racer into first place and the first place racer into last place. Complete the function below to implement the Purple Shell's effect."
   ]
  },
  {
   "cell_type": "code",
   "execution_count": 6,
   "id": "7fd4efd2",
   "metadata": {
    "execution": {
     "iopub.execute_input": "2023-04-30T01:40:16.913824Z",
     "iopub.status.busy": "2023-04-30T01:40:16.912668Z",
     "iopub.status.idle": "2023-04-30T01:40:16.922420Z",
     "shell.execute_reply": "2023-04-30T01:40:16.921205Z"
    },
    "papermill": {
     "duration": 0.019481,
     "end_time": "2023-04-30T01:40:16.924911",
     "exception": false,
     "start_time": "2023-04-30T01:40:16.905430",
     "status": "completed"
    },
    "tags": []
   },
   "outputs": [
    {
     "data": {
      "application/javascript": [
       "parent.postMessage({\"jupyterEvent\": \"custom.exercise_interaction\", \"data\": {\"outcomeType\": 4, \"interactionType\": 1, \"questionType\": 2, \"questionId\": \"3_PurpleShell\", \"learnToolsVersion\": \"0.3.4\", \"valueTowardsCompletion\": 0.0, \"failureMessage\": \"\", \"exceptionClass\": \"\", \"trace\": \"\"}}, \"*\")"
      ],
      "text/plain": [
       "<IPython.core.display.Javascript object>"
      ]
     },
     "metadata": {},
     "output_type": "display_data"
    },
    {
     "data": {
      "text/markdown": [
       "<span style=\"color:#ccaa33\">Check:</span> When you've updated the starter code, `check()` will tell you whether your code is correct. "
      ],
      "text/plain": [
       "Check: When you've updated the starter code, `check()` will tell you whether your code is correct. "
      ]
     },
     "metadata": {},
     "output_type": "display_data"
    }
   ],
   "source": [
    "def purple_shell(racers):\n",
    "    \"\"\"Given a list of racers, set the first place racer (at the front of the list) to last\n",
    "    place and vice versa.\n",
    "    \n",
    "    >>> r = [\"Mario\", \"Bowser\", \"Luigi\"]\n",
    "    >>> purple_shell(r)\n",
    "    >>> r\n",
    "    [\"Luigi\", \"Bowser\", \"Mario\"]\n",
    "    \"\"\"\n",
    "    pass\n",
    "\n",
    "# Check your answer\n",
    "q3.check()"
   ]
  },
  {
   "cell_type": "code",
   "execution_count": 7,
   "id": "51ea82a3",
   "metadata": {
    "collapsed": true,
    "execution": {
     "iopub.execute_input": "2023-04-30T01:40:16.939084Z",
     "iopub.status.busy": "2023-04-30T01:40:16.938635Z",
     "iopub.status.idle": "2023-04-30T01:40:16.943950Z",
     "shell.execute_reply": "2023-04-30T01:40:16.942624Z"
    },
    "jupyter": {
     "outputs_hidden": true
    },
    "papermill": {
     "duration": 0.015303,
     "end_time": "2023-04-30T01:40:16.946340",
     "exception": false,
     "start_time": "2023-04-30T01:40:16.931037",
     "status": "completed"
    },
    "tags": []
   },
   "outputs": [],
   "source": [
    "#q3.hint()\n",
    "#q3.solution()"
   ]
  },
  {
   "cell_type": "markdown",
   "id": "34ec515a",
   "metadata": {
    "papermill": {
     "duration": 0.006828,
     "end_time": "2023-04-30T01:40:16.959284",
     "exception": false,
     "start_time": "2023-04-30T01:40:16.952456",
     "status": "completed"
    },
    "tags": []
   },
   "source": [
    "# 4.\n",
    "\n",
    "What are the lengths of the following lists? Fill in the variable `lengths` with your predictions. (Try to make a prediction for each list *without* just calling `len()` on it.)"
   ]
  },
  {
   "cell_type": "code",
   "execution_count": 8,
   "id": "c9b4fc63",
   "metadata": {
    "execution": {
     "iopub.execute_input": "2023-04-30T01:40:16.973150Z",
     "iopub.status.busy": "2023-04-30T01:40:16.972744Z",
     "iopub.status.idle": "2023-04-30T01:40:16.982898Z",
     "shell.execute_reply": "2023-04-30T01:40:16.981759Z"
    },
    "papermill": {
     "duration": 0.020007,
     "end_time": "2023-04-30T01:40:16.985322",
     "exception": false,
     "start_time": "2023-04-30T01:40:16.965315",
     "status": "completed"
    },
    "tags": []
   },
   "outputs": [
    {
     "data": {
      "application/javascript": [
       "parent.postMessage({\"jupyterEvent\": \"custom.exercise_interaction\", \"data\": {\"outcomeType\": 4, \"interactionType\": 1, \"questionType\": 1, \"questionId\": \"4_UnderstandLen\", \"learnToolsVersion\": \"0.3.4\", \"valueTowardsCompletion\": 0.0, \"failureMessage\": \"\", \"exceptionClass\": \"\", \"trace\": \"\"}}, \"*\")"
      ],
      "text/plain": [
       "<IPython.core.display.Javascript object>"
      ]
     },
     "metadata": {},
     "output_type": "display_data"
    },
    {
     "data": {
      "text/markdown": [
       "<span style=\"color:#ccaa33\">Check:</span> When you've updated the starter code, `check()` will tell you whether your code is correct. You need to update the code that creates variable `lengths`"
      ],
      "text/plain": [
       "Check: When you've updated the starter code, `check()` will tell you whether your code is correct. You need to update the code that creates variable `lengths`"
      ]
     },
     "metadata": {},
     "output_type": "display_data"
    }
   ],
   "source": [
    "a = [1, 2, 3]\n",
    "b = [1, [2, 3]]\n",
    "c = []\n",
    "d = [1, 2, 3][1:]\n",
    "\n",
    "# Put your predictions in the list below. Lengths should contain 4 numbers, the\n",
    "# first being the length of a, the second being the length of b and so on.\n",
    "lengths = []\n",
    "\n",
    "# Check your answer\n",
    "q4.check()"
   ]
  },
  {
   "cell_type": "code",
   "execution_count": 9,
   "id": "b0991a2d",
   "metadata": {
    "collapsed": true,
    "execution": {
     "iopub.execute_input": "2023-04-30T01:40:17.000362Z",
     "iopub.status.busy": "2023-04-30T01:40:16.999622Z",
     "iopub.status.idle": "2023-04-30T01:40:17.004192Z",
     "shell.execute_reply": "2023-04-30T01:40:17.002996Z"
    },
    "jupyter": {
     "outputs_hidden": true
    },
    "papermill": {
     "duration": 0.014644,
     "end_time": "2023-04-30T01:40:17.006402",
     "exception": false,
     "start_time": "2023-04-30T01:40:16.991758",
     "status": "completed"
    },
    "tags": []
   },
   "outputs": [],
   "source": [
    "# line below provides some explanation\n",
    "#q4.solution()"
   ]
  },
  {
   "cell_type": "markdown",
   "id": "7b903489",
   "metadata": {
    "papermill": {
     "duration": 0.006193,
     "end_time": "2023-04-30T01:40:17.019239",
     "exception": false,
     "start_time": "2023-04-30T01:40:17.013046",
     "status": "completed"
    },
    "tags": []
   },
   "source": [
    "# 5. <span title=\"A bit spicy\" style=\"color: darkgreen \">🌶️</span>\n",
    "\n",
    "We're using lists to record people who attended our party and what order they arrived in. For example, the following list represents a party with 7 guests, in which Adela showed up first and Ford was the last to arrive:\n",
    "\n",
    "    party_attendees = ['Adela', 'Fleda', 'Owen', 'May', 'Mona', 'Gilbert', 'Ford']\n",
    "\n",
    "A guest is considered 'fashionably late' if they arrived after at least half of the party's guests. However, they must not be the very last guest (that's taking it too far). In the above example, Mona and Gilbert are the only guests who were fashionably late.\n",
    "\n",
    "Complete the function below which takes a list of party attendees as well as a person, and tells us whether that person is fashionably late."
   ]
  },
  {
   "cell_type": "code",
   "execution_count": 10,
   "id": "bf2a1c93",
   "metadata": {
    "execution": {
     "iopub.execute_input": "2023-04-30T01:40:17.034171Z",
     "iopub.status.busy": "2023-04-30T01:40:17.033748Z",
     "iopub.status.idle": "2023-04-30T01:40:17.044660Z",
     "shell.execute_reply": "2023-04-30T01:40:17.043561Z"
    },
    "papermill": {
     "duration": 0.021611,
     "end_time": "2023-04-30T01:40:17.047255",
     "exception": false,
     "start_time": "2023-04-30T01:40:17.025644",
     "status": "completed"
    },
    "tags": []
   },
   "outputs": [
    {
     "data": {
      "application/javascript": [
       "parent.postMessage({\"jupyterEvent\": \"custom.exercise_interaction\", \"data\": {\"outcomeType\": 4, \"interactionType\": 1, \"questionType\": 2, \"questionId\": \"5_FashionablyLate\", \"learnToolsVersion\": \"0.3.4\", \"valueTowardsCompletion\": 0.0, \"failureMessage\": \"\", \"exceptionClass\": \"\", \"trace\": \"\"}}, \"*\")"
      ],
      "text/plain": [
       "<IPython.core.display.Javascript object>"
      ]
     },
     "metadata": {},
     "output_type": "display_data"
    },
    {
     "data": {
      "text/markdown": [
       "<span style=\"color:#ccaa33\">Check:</span> When you've updated the starter code, `check()` will tell you whether your code is correct. "
      ],
      "text/plain": [
       "Check: When you've updated the starter code, `check()` will tell you whether your code is correct. "
      ]
     },
     "metadata": {},
     "output_type": "display_data"
    }
   ],
   "source": [
    "def fashionably_late(arrivals, name):\n",
    "    \"\"\"Given an ordered list of arrivals to the party and a name, return whether the guest with that\n",
    "    name was fashionably late.\n",
    "    \"\"\"\n",
    "    pass\n",
    "\n",
    "# Check your answer\n",
    "q5.check()"
   ]
  },
  {
   "cell_type": "code",
   "execution_count": 11,
   "id": "0ba748a9",
   "metadata": {
    "collapsed": true,
    "execution": {
     "iopub.execute_input": "2023-04-30T01:40:17.062821Z",
     "iopub.status.busy": "2023-04-30T01:40:17.062246Z",
     "iopub.status.idle": "2023-04-30T01:40:17.067204Z",
     "shell.execute_reply": "2023-04-30T01:40:17.066064Z"
    },
    "jupyter": {
     "outputs_hidden": true
    },
    "papermill": {
     "duration": 0.015373,
     "end_time": "2023-04-30T01:40:17.069485",
     "exception": false,
     "start_time": "2023-04-30T01:40:17.054112",
     "status": "completed"
    },
    "tags": []
   },
   "outputs": [],
   "source": [
    "#q5.hint()\n",
    "#q5.solution()"
   ]
  },
  {
   "cell_type": "markdown",
   "id": "5e6c6e10",
   "metadata": {
    "papermill": {
     "duration": 0.006402,
     "end_time": "2023-04-30T01:40:17.082632",
     "exception": false,
     "start_time": "2023-04-30T01:40:17.076230",
     "status": "completed"
    },
    "tags": []
   },
   "source": [
    "# Keep Going\n",
    "\n",
    "That's it for lists and tuples! Now you have the baseline knowledge to **[learn about loops](https://www.kaggle.com/colinmorris/loops-and-list-comprehensions)**, which is where lists and tuples get really interesting. "
   ]
  },
  {
   "cell_type": "markdown",
   "id": "6055dbd5",
   "metadata": {
    "papermill": {
     "duration": 0.006384,
     "end_time": "2023-04-30T01:40:17.095700",
     "exception": false,
     "start_time": "2023-04-30T01:40:17.089316",
     "status": "completed"
    },
    "tags": []
   },
   "source": [
    "---\n",
    "\n",
    "\n",
    "\n",
    "\n",
    "*Have questions or comments? Visit the [course discussion forum](https://www.kaggle.com/learn/python/discussion) to chat with other learners.*"
   ]
  }
 ],
 "metadata": {
  "kernelspec": {
   "display_name": "Python 3",
   "language": "python",
   "name": "python3"
  },
  "language_info": {
   "codemirror_mode": {
    "name": "ipython",
    "version": 3
   },
   "file_extension": ".py",
   "mimetype": "text/x-python",
   "name": "python",
   "nbconvert_exporter": "python",
   "pygments_lexer": "ipython3",
   "version": "3.7.12"
  },
  "papermill": {
   "default_parameters": {},
   "duration": 11.786881,
   "end_time": "2023-04-30T01:40:17.826998",
   "environment_variables": {},
   "exception": null,
   "input_path": "__notebook__.ipynb",
   "output_path": "__notebook__.ipynb",
   "parameters": {},
   "start_time": "2023-04-30T01:40:06.040117",
   "version": "2.4.0"
  }
 },
 "nbformat": 4,
 "nbformat_minor": 5
}
