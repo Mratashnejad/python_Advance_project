{
 "cells": [
  {
   "cell_type": "markdown",
   "id": "2fc6e214",
   "metadata": {
    "papermill": {
     "duration": 0.006374,
     "end_time": "2023-05-03T10:55:21.707113",
     "exception": false,
     "start_time": "2023-05-03T10:55:21.700739",
     "status": "completed"
    },
    "tags": []
   },
   "source": [
    "**This notebook is an exercise in the [Python](https://www.kaggle.com/learn/python) course.  You can reference the tutorial at [this link](https://www.kaggle.com/colinmorris/strings-and-dictionaries).**\n",
    "\n",
    "---\n"
   ]
  },
  {
   "cell_type": "markdown",
   "id": "2df1b516",
   "metadata": {
    "papermill": {
     "duration": 0.007053,
     "end_time": "2023-05-03T10:55:21.719975",
     "exception": false,
     "start_time": "2023-05-03T10:55:21.712922",
     "status": "completed"
    },
    "tags": []
   },
   "source": [
    "You are almost done with the course. Nice job!\n",
    "\n",
    "We have a couple more interesting problems for you before you go. \n",
    "\n",
    "As always, run the setup code below before working on the questions."
   ]
  },
  {
   "cell_type": "code",
   "execution_count": 1,
   "id": "2415d905",
   "metadata": {
    "execution": {
     "iopub.execute_input": "2023-05-03T10:55:21.735325Z",
     "iopub.status.busy": "2023-05-03T10:55:21.734839Z",
     "iopub.status.idle": "2023-05-03T10:55:21.798910Z",
     "shell.execute_reply": "2023-05-03T10:55:21.797836Z"
    },
    "papermill": {
     "duration": 0.073429,
     "end_time": "2023-05-03T10:55:21.801280",
     "exception": false,
     "start_time": "2023-05-03T10:55:21.727851",
     "status": "completed"
    },
    "tags": []
   },
   "outputs": [
    {
     "name": "stdout",
     "output_type": "stream",
     "text": [
      "Setup complete.\n"
     ]
    }
   ],
   "source": [
    "from learntools.core import binder; binder.bind(globals())\n",
    "from learntools.python.ex6 import *\n",
    "print('Setup complete.')"
   ]
  },
  {
   "cell_type": "markdown",
   "id": "bbc8fc04",
   "metadata": {
    "papermill": {
     "duration": 0.005215,
     "end_time": "2023-05-03T10:55:21.811787",
     "exception": false,
     "start_time": "2023-05-03T10:55:21.806572",
     "status": "completed"
    },
    "tags": []
   },
   "source": [
    "Let's start with a string lightning round to warm up. What are the lengths of the strings below?\n",
    "\n",
    "For each of the five strings below, predict what `len()` would return when passed that string. Use the variable `length` to record your answer, then run the cell to check whether you were right.  \n",
    "\n",
    "# 0a."
   ]
  },
  {
   "cell_type": "code",
   "execution_count": 2,
   "id": "d33e1437",
   "metadata": {
    "execution": {
     "iopub.execute_input": "2023-05-03T10:55:21.824553Z",
     "iopub.status.busy": "2023-05-03T10:55:21.823763Z",
     "iopub.status.idle": "2023-05-03T10:55:21.834995Z",
     "shell.execute_reply": "2023-05-03T10:55:21.833561Z"
    },
    "papermill": {
     "duration": 0.020903,
     "end_time": "2023-05-03T10:55:21.837859",
     "exception": false,
     "start_time": "2023-05-03T10:55:21.816956",
     "status": "completed"
    },
    "tags": []
   },
   "outputs": [
    {
     "data": {
      "application/javascript": [
       "parent.postMessage({\"jupyterEvent\": \"custom.exercise_interaction\", \"data\": {\"outcomeType\": 1, \"valueTowardsCompletion\": 0.3333333333333333, \"interactionType\": 1, \"questionType\": 1, \"questionId\": \"0.1_ZA\", \"learnToolsVersion\": \"0.3.4\", \"failureMessage\": \"\", \"exceptionClass\": \"\", \"trace\": \"\"}}, \"*\")"
      ],
      "text/plain": [
       "<IPython.core.display.Javascript object>"
      ]
     },
     "metadata": {},
     "output_type": "display_data"
    },
    {
     "data": {
      "text/markdown": [
       "<span style=\"color:#33cc33\">Correct:</span> \n",
       "\n",
       "The empty string has length zero. Note that the empty string is also the only string that Python considers as False when converting to boolean."
      ],
      "text/plain": [
       "Correct: \n",
       "\n",
       "The empty string has length zero. Note that the empty string is also the only string that Python considers as False when converting to boolean."
      ]
     },
     "metadata": {},
     "output_type": "display_data"
    }
   ],
   "source": [
    "a = \"\"\n",
    "length = 0\n",
    "q0.a.check()"
   ]
  },
  {
   "cell_type": "markdown",
   "id": "a05ef7d7",
   "metadata": {
    "papermill": {
     "duration": 0.00557,
     "end_time": "2023-05-03T10:55:21.849478",
     "exception": false,
     "start_time": "2023-05-03T10:55:21.843908",
     "status": "completed"
    },
    "tags": []
   },
   "source": [
    "# 0b."
   ]
  },
  {
   "cell_type": "code",
   "execution_count": 3,
   "id": "52156e79",
   "metadata": {
    "execution": {
     "iopub.execute_input": "2023-05-03T10:55:21.862932Z",
     "iopub.status.busy": "2023-05-03T10:55:21.862566Z",
     "iopub.status.idle": "2023-05-03T10:55:21.872664Z",
     "shell.execute_reply": "2023-05-03T10:55:21.871577Z"
    },
    "papermill": {
     "duration": 0.019805,
     "end_time": "2023-05-03T10:55:21.875045",
     "exception": false,
     "start_time": "2023-05-03T10:55:21.855240",
     "status": "completed"
    },
    "tags": []
   },
   "outputs": [
    {
     "data": {
      "application/javascript": [
       "parent.postMessage({\"jupyterEvent\": \"custom.exercise_interaction\", \"data\": {\"outcomeType\": 1, \"valueTowardsCompletion\": 0.3333333333333333, \"interactionType\": 1, \"questionType\": 1, \"questionId\": \"0.2_ZB\", \"learnToolsVersion\": \"0.3.4\", \"failureMessage\": \"\", \"exceptionClass\": \"\", \"trace\": \"\"}}, \"*\")"
      ],
      "text/plain": [
       "<IPython.core.display.Javascript object>"
      ]
     },
     "metadata": {},
     "output_type": "display_data"
    },
    {
     "data": {
      "text/markdown": [
       "<span style=\"color:#33cc33\">Correct:</span> \n",
       "\n",
       "Keep in mind Python includes spaces (and punctuation) when counting string length."
      ],
      "text/plain": [
       "Correct: \n",
       "\n",
       "Keep in mind Python includes spaces (and punctuation) when counting string length."
      ]
     },
     "metadata": {},
     "output_type": "display_data"
    }
   ],
   "source": [
    "b = \"it's ok\"\n",
    "length = 7\n",
    "q0.b.check()"
   ]
  },
  {
   "cell_type": "markdown",
   "id": "336f2361",
   "metadata": {
    "papermill": {
     "duration": 0.005925,
     "end_time": "2023-05-03T10:55:21.887386",
     "exception": false,
     "start_time": "2023-05-03T10:55:21.881461",
     "status": "completed"
    },
    "tags": []
   },
   "source": [
    "# 0c."
   ]
  },
  {
   "cell_type": "code",
   "execution_count": 4,
   "id": "848f10ef",
   "metadata": {
    "execution": {
     "iopub.execute_input": "2023-05-03T10:55:21.902934Z",
     "iopub.status.busy": "2023-05-03T10:55:21.902290Z",
     "iopub.status.idle": "2023-05-03T10:55:21.909279Z",
     "shell.execute_reply": "2023-05-03T10:55:21.908484Z"
    },
    "papermill": {
     "duration": 0.016955,
     "end_time": "2023-05-03T10:55:21.911315",
     "exception": false,
     "start_time": "2023-05-03T10:55:21.894360",
     "status": "completed"
    },
    "tags": []
   },
   "outputs": [
    {
     "data": {
      "application/javascript": [
       "parent.postMessage({\"jupyterEvent\": \"custom.exercise_interaction\", \"data\": {\"outcomeType\": 1, \"valueTowardsCompletion\": 0.3333333333333333, \"interactionType\": 1, \"questionType\": 1, \"questionId\": \"0.3_ZC\", \"learnToolsVersion\": \"0.3.4\", \"failureMessage\": \"\", \"exceptionClass\": \"\", \"trace\": \"\"}}, \"*\")"
      ],
      "text/plain": [
       "<IPython.core.display.Javascript object>"
      ]
     },
     "metadata": {},
     "output_type": "display_data"
    },
    {
     "data": {
      "text/markdown": [
       "<span style=\"color:#33cc33\">Correct:</span> \n",
       "\n",
       "Even though we use different syntax to create it, the string `c` is identical to `b`. In particular, note that the backslash is not part of the string, so it doesn't contribute to its length."
      ],
      "text/plain": [
       "Correct: \n",
       "\n",
       "Even though we use different syntax to create it, the string `c` is identical to `b`. In particular, note that the backslash is not part of the string, so it doesn't contribute to its length."
      ]
     },
     "metadata": {},
     "output_type": "display_data"
    }
   ],
   "source": [
    "c = 'it\\'s ok'\n",
    "length = 7\n",
    "q0.c.check()"
   ]
  },
  {
   "cell_type": "markdown",
   "id": "f784321d",
   "metadata": {
    "papermill": {
     "duration": 0.006052,
     "end_time": "2023-05-03T10:55:21.923568",
     "exception": false,
     "start_time": "2023-05-03T10:55:21.917516",
     "status": "completed"
    },
    "tags": []
   },
   "source": [
    "# 0d."
   ]
  },
  {
   "cell_type": "code",
   "execution_count": 5,
   "id": "c589e553",
   "metadata": {
    "execution": {
     "iopub.execute_input": "2023-05-03T10:55:21.937991Z",
     "iopub.status.busy": "2023-05-03T10:55:21.937343Z",
     "iopub.status.idle": "2023-05-03T10:55:21.945358Z",
     "shell.execute_reply": "2023-05-03T10:55:21.944277Z"
    },
    "papermill": {
     "duration": 0.018397,
     "end_time": "2023-05-03T10:55:21.948120",
     "exception": false,
     "start_time": "2023-05-03T10:55:21.929723",
     "status": "completed"
    },
    "tags": []
   },
   "outputs": [
    {
     "data": {
      "application/javascript": [
       "parent.postMessage({\"jupyterEvent\": \"custom.exercise_interaction\", \"data\": {\"outcomeType\": 1, \"valueTowardsCompletion\": 0.3333333333333333, \"interactionType\": 1, \"questionType\": 1, \"questionId\": \"0.4_ZD\", \"learnToolsVersion\": \"0.3.4\", \"failureMessage\": \"\", \"exceptionClass\": \"\", \"trace\": \"\"}}, \"*\")"
      ],
      "text/plain": [
       "<IPython.core.display.Javascript object>"
      ]
     },
     "metadata": {},
     "output_type": "display_data"
    },
    {
     "data": {
      "text/markdown": [
       "<span style=\"color:#33cc33\">Correct:</span> \n",
       "\n",
       "The fact that this string was created using triple-quote syntax doesn't make any difference in terms of its content or length. This string is exactly the same as `'hey'`."
      ],
      "text/plain": [
       "Correct: \n",
       "\n",
       "The fact that this string was created using triple-quote syntax doesn't make any difference in terms of its content or length. This string is exactly the same as `'hey'`."
      ]
     },
     "metadata": {},
     "output_type": "display_data"
    }
   ],
   "source": [
    "d = \"\"\"hey\"\"\"\n",
    "length = 3\n",
    "q0.d.check()"
   ]
  },
  {
   "cell_type": "markdown",
   "id": "979227ca",
   "metadata": {
    "papermill": {
     "duration": 0.006066,
     "end_time": "2023-05-03T10:55:21.960872",
     "exception": false,
     "start_time": "2023-05-03T10:55:21.954806",
     "status": "completed"
    },
    "tags": []
   },
   "source": [
    "# 0e."
   ]
  },
  {
   "cell_type": "code",
   "execution_count": 6,
   "id": "b5ce84ce",
   "metadata": {
    "execution": {
     "iopub.execute_input": "2023-05-03T10:55:21.975401Z",
     "iopub.status.busy": "2023-05-03T10:55:21.974774Z",
     "iopub.status.idle": "2023-05-03T10:55:21.983722Z",
     "shell.execute_reply": "2023-05-03T10:55:21.982951Z"
    },
    "papermill": {
     "duration": 0.01865,
     "end_time": "2023-05-03T10:55:21.985797",
     "exception": false,
     "start_time": "2023-05-03T10:55:21.967147",
     "status": "completed"
    },
    "tags": []
   },
   "outputs": [
    {
     "data": {
      "application/javascript": [
       "parent.postMessage({\"jupyterEvent\": \"custom.exercise_interaction\", \"data\": {\"outcomeType\": 1, \"valueTowardsCompletion\": 0.3333333333333333, \"interactionType\": 1, \"questionType\": 1, \"questionId\": \"0.5_ZE\", \"learnToolsVersion\": \"0.3.4\", \"failureMessage\": \"\", \"exceptionClass\": \"\", \"trace\": \"\"}}, \"*\")"
      ],
      "text/plain": [
       "<IPython.core.display.Javascript object>"
      ]
     },
     "metadata": {},
     "output_type": "display_data"
    },
    {
     "data": {
      "text/markdown": [
       "<span style=\"color:#33cc33\">Correct:</span> \n",
       "\n",
       "The newline character is just a single character! (Even though we represent it to Python using a combination of two characters.)"
      ],
      "text/plain": [
       "Correct: \n",
       "\n",
       "The newline character is just a single character! (Even though we represent it to Python using a combination of two characters.)"
      ]
     },
     "metadata": {},
     "output_type": "display_data"
    }
   ],
   "source": [
    "e = '\\n'\n",
    "length = 1\n",
    "q0.e.check()"
   ]
  },
  {
   "cell_type": "markdown",
   "id": "3d946ed6",
   "metadata": {
    "papermill": {
     "duration": 0.006238,
     "end_time": "2023-05-03T10:55:21.998522",
     "exception": false,
     "start_time": "2023-05-03T10:55:21.992284",
     "status": "completed"
    },
    "tags": []
   },
   "source": [
    "# 1.\n",
    "\n",
    "There is a saying that \"Data scientists spend 80% of their time cleaning data, and 20% of their time complaining about cleaning data.\" Let's see if you can write a function to help clean US zip code data. Given a string, it should return whether or not that string represents a valid zip code. For our purposes, a valid zip code is any string consisting of exactly 5 digits.\n",
    "\n",
    "HINT: `str` has a method that will be useful here. Use `help(str)` to review a list of string methods."
   ]
  },
  {
   "cell_type": "code",
   "execution_count": 7,
   "id": "353a2e94",
   "metadata": {
    "execution": {
     "iopub.execute_input": "2023-05-03T10:55:22.014858Z",
     "iopub.status.busy": "2023-05-03T10:55:22.014100Z",
     "iopub.status.idle": "2023-05-03T10:55:22.023644Z",
     "shell.execute_reply": "2023-05-03T10:55:22.022830Z"
    },
    "papermill": {
     "duration": 0.019683,
     "end_time": "2023-05-03T10:55:22.025692",
     "exception": false,
     "start_time": "2023-05-03T10:55:22.006009",
     "status": "completed"
    },
    "tags": []
   },
   "outputs": [
    {
     "data": {
      "application/javascript": [
       "parent.postMessage({\"jupyterEvent\": \"custom.exercise_interaction\", \"data\": {\"outcomeType\": 1, \"valueTowardsCompletion\": 0.3333333333333333, \"interactionType\": 1, \"questionType\": 2, \"questionId\": \"1_ZipValidator\", \"learnToolsVersion\": \"0.3.4\", \"failureMessage\": \"\", \"exceptionClass\": \"\", \"trace\": \"\"}}, \"*\")"
      ],
      "text/plain": [
       "<IPython.core.display.Javascript object>"
      ]
     },
     "metadata": {},
     "output_type": "display_data"
    },
    {
     "data": {
      "text/markdown": [
       "<span style=\"color:#33cc33\">Correct</span>"
      ],
      "text/plain": [
       "Correct"
      ]
     },
     "metadata": {},
     "output_type": "display_data"
    }
   ],
   "source": [
    "def is_valid_zip(zip_code):\n",
    "    \"\"\"Returns whether the input string is a valid (5 digit) zip code\"\"\"\n",
    "    if len(zip_code) != 5:\n",
    "        return False\n",
    "    \n",
    "    for char in zip_code:\n",
    "        if not char.isdigit():\n",
    "            return False\n",
    "    return True\n",
    "# Check your answer\n",
    "q1.check()"
   ]
  },
  {
   "cell_type": "code",
   "execution_count": 8,
   "id": "7bfcae4b",
   "metadata": {
    "execution": {
     "iopub.execute_input": "2023-05-03T10:55:22.041202Z",
     "iopub.status.busy": "2023-05-03T10:55:22.040612Z",
     "iopub.status.idle": "2023-05-03T10:55:22.052827Z",
     "shell.execute_reply": "2023-05-03T10:55:22.051648Z"
    },
    "papermill": {
     "duration": 0.02305,
     "end_time": "2023-05-03T10:55:22.055433",
     "exception": false,
     "start_time": "2023-05-03T10:55:22.032383",
     "status": "completed"
    },
    "tags": []
   },
   "outputs": [
    {
     "data": {
      "application/javascript": [
       "parent.postMessage({\"jupyterEvent\": \"custom.exercise_interaction\", \"data\": {\"interactionType\": 2, \"questionType\": 2, \"questionId\": \"1_ZipValidator\", \"learnToolsVersion\": \"0.3.4\", \"valueTowardsCompletion\": 0.0, \"failureMessage\": \"\", \"exceptionClass\": \"\", \"trace\": \"\", \"outcomeType\": 4}}, \"*\")"
      ],
      "text/plain": [
       "<IPython.core.display.Javascript object>"
      ]
     },
     "metadata": {},
     "output_type": "display_data"
    },
    {
     "data": {
      "text/markdown": [
       "<span style=\"color:#3366cc\">Hint:</span> Try looking up `help(str.isdigit)`"
      ],
      "text/plain": [
       "Hint: Try looking up `help(str.isdigit)`"
      ]
     },
     "metadata": {},
     "output_type": "display_data"
    },
    {
     "data": {
      "application/javascript": [
       "parent.postMessage({\"jupyterEvent\": \"custom.exercise_interaction\", \"data\": {\"interactionType\": 3, \"questionType\": 2, \"questionId\": \"1_ZipValidator\", \"learnToolsVersion\": \"0.3.4\", \"valueTowardsCompletion\": 0.0, \"failureMessage\": \"\", \"exceptionClass\": \"\", \"trace\": \"\", \"outcomeType\": 4}}, \"*\")"
      ],
      "text/plain": [
       "<IPython.core.display.Javascript object>"
      ]
     },
     "metadata": {},
     "output_type": "display_data"
    },
    {
     "data": {
      "text/markdown": [
       "<span style=\"color:#33cc99\">Solution:</span> \n",
       "```python\n",
       "def is_valid_zip(zip_code):\n",
       "    return len(zip_code) == 5 and zip_code.isdigit()\n",
       "```"
      ],
      "text/plain": [
       "Solution: \n",
       "```python\n",
       "def is_valid_zip(zip_code):\n",
       "    return len(zip_code) == 5 and zip_code.isdigit()\n",
       "```"
      ]
     },
     "metadata": {},
     "output_type": "display_data"
    }
   ],
   "source": [
    "q1.hint()\n",
    "q1.solution()"
   ]
  },
  {
   "cell_type": "markdown",
   "id": "74dac7d5",
   "metadata": {
    "papermill": {
     "duration": 0.00719,
     "end_time": "2023-05-03T10:55:22.070642",
     "exception": false,
     "start_time": "2023-05-03T10:55:22.063452",
     "status": "completed"
    },
    "tags": []
   },
   "source": [
    "# 2.\n",
    "\n",
    "A researcher has gathered thousands of news articles. But she wants to focus her attention on articles including a specific word. Complete the function below to help her filter her list of articles.\n",
    "\n",
    "Your function should meet the following criteria:\n",
    "\n",
    "- Do not include documents where the keyword string shows up only as a part of a larger word. For example, if she were looking for the keyword “closed”, you would not include the string “enclosed.” \n",
    "- She does not want you to distinguish upper case from lower case letters. So the phrase “Closed the case.” would be included when the keyword is “closed”\n",
    "- Do not let periods or commas affect what is matched. “It is closed.” would be included when the keyword is “closed”. But you can assume there are no other types of punctuation."
   ]
  },
  {
   "cell_type": "code",
   "execution_count": 9,
   "id": "cccc4041",
   "metadata": {
    "execution": {
     "iopub.execute_input": "2023-05-03T10:55:22.087881Z",
     "iopub.status.busy": "2023-05-03T10:55:22.087125Z",
     "iopub.status.idle": "2023-05-03T10:55:22.097044Z",
     "shell.execute_reply": "2023-05-03T10:55:22.096256Z"
    },
    "papermill": {
     "duration": 0.021076,
     "end_time": "2023-05-03T10:55:22.099292",
     "exception": false,
     "start_time": "2023-05-03T10:55:22.078216",
     "status": "completed"
    },
    "tags": []
   },
   "outputs": [
    {
     "data": {
      "application/javascript": [
       "parent.postMessage({\"jupyterEvent\": \"custom.exercise_interaction\", \"data\": {\"outcomeType\": 1, \"valueTowardsCompletion\": 0.3333333333333333, \"interactionType\": 1, \"questionType\": 2, \"questionId\": \"2_WordSearch\", \"learnToolsVersion\": \"0.3.4\", \"failureMessage\": \"\", \"exceptionClass\": \"\", \"trace\": \"\"}}, \"*\")"
      ],
      "text/plain": [
       "<IPython.core.display.Javascript object>"
      ]
     },
     "metadata": {},
     "output_type": "display_data"
    },
    {
     "data": {
      "text/markdown": [
       "<span style=\"color:#33cc33\">Correct</span>"
      ],
      "text/plain": [
       "Correct"
      ]
     },
     "metadata": {},
     "output_type": "display_data"
    }
   ],
   "source": [
    "def word_search(doc_list, keyword):\n",
    "    \"\"\"\n",
    "    Takes a list of documents (each document is a string) and a keyword. \n",
    "    Returns list of the index values into the original list for all documents \n",
    "    containing the keyword.\n",
    "\n",
    "    Example:\n",
    "    doc_list = [\"The Learn Python Challenge Casino.\", \"They bought a car\", \"Casinoville\"]\n",
    "    >>> word_search(doc_list, 'casino')\n",
    "    >>> [0]\n",
    "    \"\"\"\n",
    "\n",
    "    indices = []\n",
    "    for i, article in enumerate(doc_list):\n",
    "        article = article.replace('.', '').replace(',', '')\n",
    "        words = article.split()\n",
    "        if keyword.lower() in [word.lower() for word in words]:\n",
    "            if any([\n",
    "                keyword.lower() == word.lower() or\n",
    "                keyword.lower() == word.lower()[:-1] or\n",
    "                keyword.lower() == word.lower()[1:]\n",
    "                for word in words\n",
    "            ]):\n",
    "                indices.append(i)\n",
    "    return indices\n",
    "\n",
    "q2.check()"
   ]
  },
  {
   "cell_type": "code",
   "execution_count": 10,
   "id": "53a9f8e4",
   "metadata": {
    "execution": {
     "iopub.execute_input": "2023-05-03T10:55:22.116903Z",
     "iopub.status.busy": "2023-05-03T10:55:22.116491Z",
     "iopub.status.idle": "2023-05-03T10:55:22.121038Z",
     "shell.execute_reply": "2023-05-03T10:55:22.119964Z"
    },
    "papermill": {
     "duration": 0.016278,
     "end_time": "2023-05-03T10:55:22.123316",
     "exception": false,
     "start_time": "2023-05-03T10:55:22.107038",
     "status": "completed"
    },
    "tags": []
   },
   "outputs": [],
   "source": [
    "#q2.hint()\n",
    "#q2.solution()"
   ]
  },
  {
   "cell_type": "markdown",
   "id": "946b932d",
   "metadata": {
    "papermill": {
     "duration": 0.007465,
     "end_time": "2023-05-03T10:55:22.138961",
     "exception": false,
     "start_time": "2023-05-03T10:55:22.131496",
     "status": "completed"
    },
    "tags": []
   },
   "source": [
    "# 3.\n",
    "\n",
    "Now the researcher wants to supply multiple keywords to search for. Complete the function below to help her.\n",
    "\n",
    "(You're encouraged to use the `word_search` function you just wrote when implementing this function. Reusing code in this way makes your programs more robust and readable - and it saves typing!)"
   ]
  },
  {
   "cell_type": "code",
   "execution_count": 11,
   "id": "e735c81c",
   "metadata": {
    "execution": {
     "iopub.execute_input": "2023-05-03T10:55:22.156120Z",
     "iopub.status.busy": "2023-05-03T10:55:22.155727Z",
     "iopub.status.idle": "2023-05-03T10:55:22.164815Z",
     "shell.execute_reply": "2023-05-03T10:55:22.164093Z"
    },
    "papermill": {
     "duration": 0.02011,
     "end_time": "2023-05-03T10:55:22.166844",
     "exception": false,
     "start_time": "2023-05-03T10:55:22.146734",
     "status": "completed"
    },
    "tags": []
   },
   "outputs": [
    {
     "data": {
      "application/javascript": [
       "parent.postMessage({\"jupyterEvent\": \"custom.exercise_interaction\", \"data\": {\"outcomeType\": 1, \"valueTowardsCompletion\": 0.3333333333333333, \"interactionType\": 1, \"questionType\": 2, \"questionId\": \"3_MultiWordSearch\", \"learnToolsVersion\": \"0.3.4\", \"failureMessage\": \"\", \"exceptionClass\": \"\", \"trace\": \"\"}}, \"*\")"
      ],
      "text/plain": [
       "<IPython.core.display.Javascript object>"
      ]
     },
     "metadata": {},
     "output_type": "display_data"
    },
    {
     "data": {
      "text/markdown": [
       "<span style=\"color:#33cc33\">Correct</span>"
      ],
      "text/plain": [
       "Correct"
      ]
     },
     "metadata": {},
     "output_type": "display_data"
    }
   ],
   "source": [
    "def multi_word_search(doc_list, keywords):\n",
    "    \"\"\"\n",
    "    Takes list of documents (each document is a string) and a list of keywords.  \n",
    "    Returns a dictionary where each key is a keyword, and the value is a list of indices\n",
    "    (from doc_list) of the documents containing that keyword\n",
    "\n",
    "    >>> doc_list = [\"The Learn Python Challenge Casino.\", \"They bought a car and a casino\", \"Casinoville\"]\n",
    "    >>> keywords = ['casino', 'they']\n",
    "    >>> multi_word_search(doc_list, keywords)\n",
    "    {'casino': [0, 1], 'they': [1]}\n",
    "    \"\"\"\n",
    "\n",
    "    search_results = {}\n",
    "    for keyword in keywords:\n",
    "        search_results[keyword] = word_search(doc_list, keyword)\n",
    "    return search_results\n",
    "\n",
    "\n",
    "# Check your answer\n",
    "q3.check()"
   ]
  },
  {
   "cell_type": "code",
   "execution_count": 12,
   "id": "667cea66",
   "metadata": {
    "execution": {
     "iopub.execute_input": "2023-05-03T10:55:22.185853Z",
     "iopub.status.busy": "2023-05-03T10:55:22.185210Z",
     "iopub.status.idle": "2023-05-03T10:55:22.188844Z",
     "shell.execute_reply": "2023-05-03T10:55:22.188158Z"
    },
    "papermill": {
     "duration": 0.015629,
     "end_time": "2023-05-03T10:55:22.190917",
     "exception": false,
     "start_time": "2023-05-03T10:55:22.175288",
     "status": "completed"
    },
    "tags": []
   },
   "outputs": [],
   "source": [
    "#q3.solution()"
   ]
  },
  {
   "cell_type": "markdown",
   "id": "229db7b9",
   "metadata": {
    "papermill": {
     "duration": 0.007883,
     "end_time": "2023-05-03T10:55:22.207013",
     "exception": false,
     "start_time": "2023-05-03T10:55:22.199130",
     "status": "completed"
    },
    "tags": []
   },
   "source": [
    "# Keep Going\n",
    "\n",
    "You've learned a lot. But even the best programmers rely heavily on \"libraries\" of code from other programmers. You'll learn about that in **[the last lesson](https://www.kaggle.com/colinmorris/working-with-external-libraries)**.\n"
   ]
  },
  {
   "cell_type": "markdown",
   "id": "7228c3a6",
   "metadata": {
    "papermill": {
     "duration": 0.007707,
     "end_time": "2023-05-03T10:55:22.223394",
     "exception": false,
     "start_time": "2023-05-03T10:55:22.215687",
     "status": "completed"
    },
    "tags": []
   },
   "source": [
    "---\n",
    "\n",
    "\n",
    "\n",
    "\n",
    "*Have questions or comments? Visit the [course discussion forum](https://www.kaggle.com/learn/python/discussion) to chat with other learners.*"
   ]
  }
 ],
 "metadata": {
  "kernelspec": {
   "display_name": "Python 3",
   "language": "python",
   "name": "python3"
  },
  "language_info": {
   "codemirror_mode": {
    "name": "ipython",
    "version": 3
   },
   "file_extension": ".py",
   "mimetype": "text/x-python",
   "name": "python",
   "nbconvert_exporter": "python",
   "pygments_lexer": "ipython3",
   "version": "3.10.10"
  },
  "papermill": {
   "default_parameters": {},
   "duration": 12.43383,
   "end_time": "2023-05-03T10:55:23.255650",
   "environment_variables": {},
   "exception": null,
   "input_path": "__notebook__.ipynb",
   "output_path": "__notebook__.ipynb",
   "parameters": {},
   "start_time": "2023-05-03T10:55:10.821820",
   "version": "2.4.0"
  }
 },
 "nbformat": 4,
 "nbformat_minor": 5
}
