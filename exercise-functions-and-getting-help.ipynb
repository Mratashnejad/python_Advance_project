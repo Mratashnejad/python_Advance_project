{
 "cells": [
  {
   "cell_type": "markdown",
   "id": "534a82ef",
   "metadata": {
    "papermill": {
     "duration": 0.006034,
     "end_time": "2023-04-24T03:52:39.459265",
     "exception": false,
     "start_time": "2023-04-24T03:52:39.453231",
     "status": "completed"
    },
    "tags": []
   },
   "source": [
    "**This notebook is an exercise in the [Python](https://www.kaggle.com/learn/python) course.  You can reference the tutorial at [this link](https://www.kaggle.com/colinmorris/functions-and-getting-help).**\n",
    "\n",
    "---\n"
   ]
  },
  {
   "cell_type": "markdown",
   "id": "08e6fdd9",
   "metadata": {
    "papermill": {
     "duration": 0.00453,
     "end_time": "2023-04-24T03:52:39.468966",
     "exception": false,
     "start_time": "2023-04-24T03:52:39.464436",
     "status": "completed"
    },
    "tags": []
   },
   "source": [
    "Functions are powerful. Try writing some yourself.\n",
    "\n",
    "As before, don't forget to run the setup code below before jumping into question 1."
   ]
  },
  {
   "cell_type": "code",
   "execution_count": 1,
   "id": "287e9fcb",
   "metadata": {
    "_kg_hide-input": true,
    "_kg_hide-output": true,
    "execution": {
     "iopub.execute_input": "2023-04-24T03:52:39.481553Z",
     "iopub.status.busy": "2023-04-24T03:52:39.480533Z",
     "iopub.status.idle": "2023-04-24T03:52:39.530413Z",
     "shell.execute_reply": "2023-04-24T03:52:39.529151Z"
    },
    "papermill": {
     "duration": 0.059416,
     "end_time": "2023-04-24T03:52:39.533267",
     "exception": false,
     "start_time": "2023-04-24T03:52:39.473851",
     "status": "completed"
    },
    "tags": []
   },
   "outputs": [
    {
     "name": "stdout",
     "output_type": "stream",
     "text": [
      "Setup complete.\n"
     ]
    }
   ],
   "source": [
    "# SETUP. You don't need to worry for now about what this code does or how it works.\n",
    "from learntools.core import binder; binder.bind(globals())\n",
    "from learntools.python.ex2 import *\n",
    "print('Setup complete.')"
   ]
  },
  {
   "cell_type": "markdown",
   "id": "0f87dda2",
   "metadata": {
    "papermill": {
     "duration": 0.004878,
     "end_time": "2023-04-24T03:52:39.543524",
     "exception": false,
     "start_time": "2023-04-24T03:52:39.538646",
     "status": "completed"
    },
    "tags": []
   },
   "source": [
    "# 1.\n",
    "\n",
    "Complete the body of the following function according to its docstring.\n",
    "\n",
    "HINT: Python has a built-in function `round`."
   ]
  },
  {
   "cell_type": "code",
   "execution_count": 2,
   "id": "5ac2961e",
   "metadata": {
    "execution": {
     "iopub.execute_input": "2023-04-24T03:52:39.555642Z",
     "iopub.status.busy": "2023-04-24T03:52:39.555208Z",
     "iopub.status.idle": "2023-04-24T03:52:39.566796Z",
     "shell.execute_reply": "2023-04-24T03:52:39.565501Z"
    },
    "papermill": {
     "duration": 0.020769,
     "end_time": "2023-04-24T03:52:39.569421",
     "exception": false,
     "start_time": "2023-04-24T03:52:39.548652",
     "status": "completed"
    },
    "tags": []
   },
   "outputs": [
    {
     "data": {
      "application/javascript": [
       "parent.postMessage({\"jupyterEvent\": \"custom.exercise_interaction\", \"data\": {\"outcomeType\": 1, \"valueTowardsCompletion\": 0.16666666666666666, \"interactionType\": 1, \"questionType\": 2, \"questionId\": \"1_RoundFunctionProblem\", \"learnToolsVersion\": \"0.3.4\", \"failureMessage\": \"\", \"exceptionClass\": \"\", \"trace\": \"\"}}, \"*\")"
      ],
      "text/plain": [
       "<IPython.core.display.Javascript object>"
      ]
     },
     "metadata": {},
     "output_type": "display_data"
    },
    {
     "data": {
      "text/markdown": [
       "<span style=\"color:#33cc33\">Correct</span>"
      ],
      "text/plain": [
       "Correct"
      ]
     },
     "metadata": {},
     "output_type": "display_data"
    }
   ],
   "source": [
    "def round_to_two_places(num):\n",
    "    \"\"\"Return the given number rounded to two decimal places. \n",
    "    \n",
    "    >>> round_to_two_places(3.14159)\n",
    "    3.14\n",
    "    \"\"\"\n",
    "    return round(num,2)\n",
    "\n",
    "# Check your answer\n",
    "q1.check()"
   ]
  },
  {
   "cell_type": "code",
   "execution_count": 3,
   "id": "82467d79",
   "metadata": {
    "execution": {
     "iopub.execute_input": "2023-04-24T03:52:39.582316Z",
     "iopub.status.busy": "2023-04-24T03:52:39.581536Z",
     "iopub.status.idle": "2023-04-24T03:52:39.593525Z",
     "shell.execute_reply": "2023-04-24T03:52:39.592364Z"
    },
    "papermill": {
     "duration": 0.021221,
     "end_time": "2023-04-24T03:52:39.595875",
     "exception": false,
     "start_time": "2023-04-24T03:52:39.574654",
     "status": "completed"
    },
    "tags": []
   },
   "outputs": [
    {
     "data": {
      "application/javascript": [
       "parent.postMessage({\"jupyterEvent\": \"custom.exercise_interaction\", \"data\": {\"interactionType\": 2, \"questionType\": 2, \"questionId\": \"1_RoundFunctionProblem\", \"learnToolsVersion\": \"0.3.4\", \"valueTowardsCompletion\": 0.0, \"failureMessage\": \"\", \"exceptionClass\": \"\", \"trace\": \"\", \"outcomeType\": 4}}, \"*\")"
      ],
      "text/plain": [
       "<IPython.core.display.Javascript object>"
      ]
     },
     "metadata": {},
     "output_type": "display_data"
    },
    {
     "data": {
      "text/markdown": [
       "<span style=\"color:#3366cc\">Hint:</span> Run `help(round)` in the console (or in a code cell) to learn more about the round function. You'll need to use the function's optional second argument."
      ],
      "text/plain": [
       "Hint: Run `help(round)` in the console (or in a code cell) to learn more about the round function. You'll need to use the function's optional second argument."
      ]
     },
     "metadata": {},
     "output_type": "display_data"
    },
    {
     "data": {
      "application/javascript": [
       "parent.postMessage({\"jupyterEvent\": \"custom.exercise_interaction\", \"data\": {\"interactionType\": 3, \"questionType\": 2, \"questionId\": \"1_RoundFunctionProblem\", \"learnToolsVersion\": \"0.3.4\", \"valueTowardsCompletion\": 0.0, \"failureMessage\": \"\", \"exceptionClass\": \"\", \"trace\": \"\", \"outcomeType\": 4}}, \"*\")"
      ],
      "text/plain": [
       "<IPython.core.display.Javascript object>"
      ]
     },
     "metadata": {},
     "output_type": "display_data"
    },
    {
     "data": {
      "text/markdown": [
       "<span style=\"color:#33cc99\">Solution:</span> \n",
       "```python\n",
       "return round(num, 2)\n",
       "```"
      ],
      "text/plain": [
       "Solution: \n",
       "```python\n",
       "return round(num, 2)\n",
       "```"
      ]
     },
     "metadata": {},
     "output_type": "display_data"
    }
   ],
   "source": [
    "# Uncomment the following for a hint\n",
    "q1.hint()\n",
    "# Or uncomment the following to peek at the solution\n",
    "q1.solution()"
   ]
  },
  {
   "cell_type": "markdown",
   "id": "daaf36c0",
   "metadata": {
    "papermill": {
     "duration": 0.005468,
     "end_time": "2023-04-24T03:52:39.607092",
     "exception": false,
     "start_time": "2023-04-24T03:52:39.601624",
     "status": "completed"
    },
    "tags": []
   },
   "source": [
    "# 2.\n",
    "The help for `round` says that `ndigits` (the second argument) may be negative.\n",
    "What do you think will happen when it is? Try some examples in the following cell."
   ]
  },
  {
   "cell_type": "code",
   "execution_count": 4,
   "id": "8e9c9735",
   "metadata": {
    "execution": {
     "iopub.execute_input": "2023-04-24T03:52:39.620566Z",
     "iopub.status.busy": "2023-04-24T03:52:39.620164Z",
     "iopub.status.idle": "2023-04-24T03:52:39.626182Z",
     "shell.execute_reply": "2023-04-24T03:52:39.624949Z"
    },
    "papermill": {
     "duration": 0.01606,
     "end_time": "2023-04-24T03:52:39.628963",
     "exception": false,
     "start_time": "2023-04-24T03:52:39.612903",
     "status": "completed"
    },
    "tags": []
   },
   "outputs": [
    {
     "name": "stdout",
     "output_type": "stream",
     "text": [
      "18.22\n"
     ]
    }
   ],
   "source": [
    "# Put your test code here\n",
    "def round_to_two_places(num):\n",
    "    \"\"\"Return the given number rounded to two decimal places. \n",
    "    \n",
    "    >>> round_to_two_places(3.14159)\n",
    "    3.14\n",
    "    \"\"\"\n",
    "    return round(num,3)\n",
    "\n",
    "print(round_to_two_places(18.2199))"
   ]
  },
  {
   "cell_type": "markdown",
   "id": "22f126aa",
   "metadata": {
    "papermill": {
     "duration": 0.005541,
     "end_time": "2023-04-24T03:52:39.640351",
     "exception": false,
     "start_time": "2023-04-24T03:52:39.634810",
     "status": "completed"
    },
    "tags": []
   },
   "source": [
    "Can you think of a case where this would be useful?  Once you're ready, run the code cell below to see the answer and to receive credit for completing the problem."
   ]
  },
  {
   "cell_type": "code",
   "execution_count": 5,
   "id": "1a145b4c",
   "metadata": {
    "execution": {
     "iopub.execute_input": "2023-04-24T03:52:39.653974Z",
     "iopub.status.busy": "2023-04-24T03:52:39.653519Z",
     "iopub.status.idle": "2023-04-24T03:52:39.661850Z",
     "shell.execute_reply": "2023-04-24T03:52:39.660985Z"
    },
    "papermill": {
     "duration": 0.018229,
     "end_time": "2023-04-24T03:52:39.664322",
     "exception": false,
     "start_time": "2023-04-24T03:52:39.646093",
     "status": "completed"
    },
    "tags": []
   },
   "outputs": [
    {
     "data": {
      "application/javascript": [
       "parent.postMessage({\"jupyterEvent\": \"custom.exercise_interaction\", \"data\": {\"interactionType\": 3, \"questionType\": 4, \"questionId\": \"2_RoundNdigitsProblem\", \"learnToolsVersion\": \"0.3.4\", \"valueTowardsCompletion\": 0.0, \"failureMessage\": \"\", \"exceptionClass\": \"\", \"trace\": \"\", \"outcomeType\": 4}}, \"*\")"
      ],
      "text/plain": [
       "<IPython.core.display.Javascript object>"
      ]
     },
     "metadata": {},
     "output_type": "display_data"
    },
    {
     "data": {
      "text/markdown": [
       "<span style=\"color:#33cc99\">Solution:</span> As you've seen, `ndigits=-1` rounds to the nearest 10, `ndigits=-2` rounds to the nearest 100 and so on. Where might this be useful? Suppose we're dealing with large numbers:\n",
       "\n",
       "> The area of Finland is 338,424 km²  \n",
       "> The area of Greenland is 2,166,086 km²\n",
       "\n",
       "We probably don't care whether it's really 338,424, or 338,425, or 338,177. All those digits of accuracy are just distracting. We can chop them off by calling `round()` with `ndigits=-3`:\n",
       "\n",
       "> The area of Finland is 338,000 km²  \n",
       "> The area of Greenland is 2,166,000 km²\n",
       "\n",
       "(We'll talk about how we would get the commas later when we talk about string formatting :))\n"
      ],
      "text/plain": [
       "Solution: As you've seen, `ndigits=-1` rounds to the nearest 10, `ndigits=-2` rounds to the nearest 100 and so on. Where might this be useful? Suppose we're dealing with large numbers:\n",
       "\n",
       "> The area of Finland is 338,424 km²  \n",
       "> The area of Greenland is 2,166,086 km²\n",
       "\n",
       "We probably don't care whether it's really 338,424, or 338,425, or 338,177. All those digits of accuracy are just distracting. We can chop them off by calling `round()` with `ndigits=-3`:\n",
       "\n",
       "> The area of Finland is 338,000 km²  \n",
       "> The area of Greenland is 2,166,000 km²\n",
       "\n",
       "(We'll talk about how we would get the commas later when we talk about string formatting :))"
      ]
     },
     "metadata": {},
     "output_type": "display_data"
    }
   ],
   "source": [
    "# Check your answer (Run this code cell to receive credit!)\n",
    "q2.solution()"
   ]
  },
  {
   "cell_type": "markdown",
   "id": "f8964da5",
   "metadata": {
    "papermill": {
     "duration": 0.005706,
     "end_time": "2023-04-24T03:52:39.676169",
     "exception": false,
     "start_time": "2023-04-24T03:52:39.670463",
     "status": "completed"
    },
    "tags": []
   },
   "source": [
    "# 3.\n",
    "\n",
    "In the previous exercise, the candy-sharing friends Alice, Bob and Carol tried to split candies evenly. For the sake of their friendship, any candies left over would be smashed. For example, if they collectively bring home 91 candies, they'll take 30 each and smash 1.\n",
    "\n",
    "Below is a simple function that will calculate the number of candies to smash for *any* number of total candies.\n",
    "\n",
    "Modify it so that it optionally takes a second argument representing the number of friends the candies are being split between. If no second argument is provided, it should assume 3 friends, as before.\n",
    "\n",
    "Update the docstring to reflect this new behaviour."
   ]
  },
  {
   "cell_type": "code",
   "execution_count": 6,
   "id": "34357b14",
   "metadata": {
    "execution": {
     "iopub.execute_input": "2023-04-24T03:52:39.690624Z",
     "iopub.status.busy": "2023-04-24T03:52:39.690210Z",
     "iopub.status.idle": "2023-04-24T03:52:39.700282Z",
     "shell.execute_reply": "2023-04-24T03:52:39.698972Z"
    },
    "papermill": {
     "duration": 0.020284,
     "end_time": "2023-04-24T03:52:39.702778",
     "exception": false,
     "start_time": "2023-04-24T03:52:39.682494",
     "status": "completed"
    },
    "tags": []
   },
   "outputs": [
    {
     "data": {
      "application/javascript": [
       "parent.postMessage({\"jupyterEvent\": \"custom.exercise_interaction\", \"data\": {\"outcomeType\": 1, \"valueTowardsCompletion\": 0.16666666666666666, \"interactionType\": 1, \"questionType\": 2, \"questionId\": \"3_CandySmashingFunctionProblem\", \"learnToolsVersion\": \"0.3.4\", \"failureMessage\": \"\", \"exceptionClass\": \"\", \"trace\": \"\"}}, \"*\")"
      ],
      "text/plain": [
       "<IPython.core.display.Javascript object>"
      ]
     },
     "metadata": {},
     "output_type": "display_data"
    },
    {
     "data": {
      "text/markdown": [
       "<span style=\"color:#33cc33\">Correct</span>"
      ],
      "text/plain": [
       "Correct"
      ]
     },
     "metadata": {},
     "output_type": "display_data"
    }
   ],
   "source": [
    "def to_smash(total_candies,freinds=3):\n",
    "    \"\"\"Return the number of leftover candies that must be smashed after distributing\n",
    "    the given number of candies evenly between 3 friends.\n",
    "    \n",
    "    >>> to_smash(91)\n",
    "    1\n",
    "    \"\"\"\n",
    "    return total_candies % freinds\n",
    "\n",
    "# Check your answer\n",
    "q3.check()"
   ]
  },
  {
   "cell_type": "code",
   "execution_count": 7,
   "id": "a5e62738",
   "metadata": {
    "execution": {
     "iopub.execute_input": "2023-04-24T03:52:39.718412Z",
     "iopub.status.busy": "2023-04-24T03:52:39.717971Z",
     "iopub.status.idle": "2023-04-24T03:52:39.727299Z",
     "shell.execute_reply": "2023-04-24T03:52:39.726090Z"
    },
    "papermill": {
     "duration": 0.019587,
     "end_time": "2023-04-24T03:52:39.729694",
     "exception": false,
     "start_time": "2023-04-24T03:52:39.710107",
     "status": "completed"
    },
    "tags": []
   },
   "outputs": [
    {
     "data": {
      "application/javascript": [
       "parent.postMessage({\"jupyterEvent\": \"custom.exercise_interaction\", \"data\": {\"interactionType\": 2, \"questionType\": 2, \"questionId\": \"3_CandySmashingFunctionProblem\", \"learnToolsVersion\": \"0.3.4\", \"valueTowardsCompletion\": 0.0, \"failureMessage\": \"\", \"exceptionClass\": \"\", \"trace\": \"\", \"outcomeType\": 4}}, \"*\")"
      ],
      "text/plain": [
       "<IPython.core.display.Javascript object>"
      ]
     },
     "metadata": {},
     "output_type": "display_data"
    },
    {
     "data": {
      "text/markdown": [
       "<span style=\"color:#3366cc\">Hint:</span> Refer to the section of the last tutorial notebook where we talked about default arguments"
      ],
      "text/plain": [
       "Hint: Refer to the section of the last tutorial notebook where we talked about default arguments"
      ]
     },
     "metadata": {},
     "output_type": "display_data"
    }
   ],
   "source": [
    "q3.hint()"
   ]
  },
  {
   "cell_type": "code",
   "execution_count": 8,
   "id": "82c2c336",
   "metadata": {
    "execution": {
     "iopub.execute_input": "2023-04-24T03:52:39.744667Z",
     "iopub.status.busy": "2023-04-24T03:52:39.743967Z",
     "iopub.status.idle": "2023-04-24T03:52:39.752276Z",
     "shell.execute_reply": "2023-04-24T03:52:39.751315Z"
    },
    "papermill": {
     "duration": 0.018211,
     "end_time": "2023-04-24T03:52:39.754459",
     "exception": false,
     "start_time": "2023-04-24T03:52:39.736248",
     "status": "completed"
    },
    "tags": []
   },
   "outputs": [
    {
     "data": {
      "application/javascript": [
       "parent.postMessage({\"jupyterEvent\": \"custom.exercise_interaction\", \"data\": {\"interactionType\": 3, \"questionType\": 2, \"questionId\": \"3_CandySmashingFunctionProblem\", \"learnToolsVersion\": \"0.3.4\", \"valueTowardsCompletion\": 0.0, \"failureMessage\": \"\", \"exceptionClass\": \"\", \"trace\": \"\", \"outcomeType\": 4}}, \"*\")"
      ],
      "text/plain": [
       "<IPython.core.display.Javascript object>"
      ]
     },
     "metadata": {},
     "output_type": "display_data"
    },
    {
     "data": {
      "text/markdown": [
       "<span style=\"color:#33cc99\">Solution:</span> \n",
       "```python\n",
       "def to_smash(total_candies, n_friends=3):\n",
       "    return total_candies % n_friends\n",
       "```"
      ],
      "text/plain": [
       "Solution: \n",
       "```python\n",
       "def to_smash(total_candies, n_friends=3):\n",
       "    return total_candies % n_friends\n",
       "```"
      ]
     },
     "metadata": {},
     "output_type": "display_data"
    }
   ],
   "source": [
    "q3.solution()"
   ]
  },
  {
   "cell_type": "markdown",
   "id": "2f9ae7c5",
   "metadata": {
    "papermill": {
     "duration": 0.006495,
     "end_time": "2023-04-24T03:52:39.767759",
     "exception": false,
     "start_time": "2023-04-24T03:52:39.761264",
     "status": "completed"
    },
    "tags": []
   },
   "source": [
    "# 4. (Optional)\n",
    "\n",
    "It may not be fun, but reading and understanding error messages will be an important part of your Python career.\n",
    "\n",
    "Each code cell below contains some commented buggy code. For each cell...\n",
    "\n",
    "1. Read the code and predict what you think will happen when it's run.\n",
    "2. Then uncomment the code and run it to see what happens. (**Tip**: In the kernel editor, you can highlight several lines and press `ctrl`+`/` to toggle commenting.)\n",
    "3. Fix the code (so that it accomplishes its intended purpose without throwing an exception)\n",
    "\n",
    "<!-- TODO: should this be autochecked? Delta is probably pretty small. -->"
   ]
  },
  {
   "cell_type": "code",
   "execution_count": 9,
   "id": "c9ca086d",
   "metadata": {
    "execution": {
     "iopub.execute_input": "2023-04-24T03:52:39.783892Z",
     "iopub.status.busy": "2023-04-24T03:52:39.782630Z",
     "iopub.status.idle": "2023-04-24T03:52:39.790911Z",
     "shell.execute_reply": "2023-04-24T03:52:39.789684Z"
    },
    "papermill": {
     "duration": 0.018832,
     "end_time": "2023-04-24T03:52:39.793347",
     "exception": false,
     "start_time": "2023-04-24T03:52:39.774515",
     "status": "completed"
    },
    "tags": []
   },
   "outputs": [
    {
     "data": {
      "text/plain": [
       "10.0"
      ]
     },
     "execution_count": 9,
     "metadata": {},
     "output_type": "execute_result"
    }
   ],
   "source": [
    " round_to_two_places(9.9999)"
   ]
  },
  {
   "cell_type": "code",
   "execution_count": 10,
   "id": "2ddae482",
   "metadata": {
    "execution": {
     "iopub.execute_input": "2023-04-24T03:52:39.810448Z",
     "iopub.status.busy": "2023-04-24T03:52:39.809763Z",
     "iopub.status.idle": "2023-04-24T03:52:39.819697Z",
     "shell.execute_reply": "2023-04-24T03:52:39.817453Z"
    },
    "papermill": {
     "duration": 0.023196,
     "end_time": "2023-04-24T03:52:39.823546",
     "exception": false,
     "start_time": "2023-04-24T03:52:39.800350",
     "status": "completed"
    },
    "tags": []
   },
   "outputs": [
    {
     "name": "stdout",
     "output_type": "stream",
     "text": [
      "Help on built-in function abs in module builtins:\n",
      "\n",
      "abs(x, /)\n",
      "    Return the absolute value of the argument.\n",
      "\n",
      "10\n"
     ]
    }
   ],
   "source": [
    "help(abs)\n",
    "x = -10\n",
    "y = 5\n",
    "# Which of the two variables above has the smallest absolute value?\n",
    "smallest_abs = abs(min(x,y))\n",
    "# smallest_abs = min(abs(x, y))\n",
    "print(smallest_abs)"
   ]
  },
  {
   "cell_type": "code",
   "execution_count": 11,
   "id": "577496d3",
   "metadata": {
    "execution": {
     "iopub.execute_input": "2023-04-24T03:52:39.842976Z",
     "iopub.status.busy": "2023-04-24T03:52:39.842575Z",
     "iopub.status.idle": "2023-04-24T03:52:39.850519Z",
     "shell.execute_reply": "2023-04-24T03:52:39.848875Z"
    },
    "papermill": {
     "duration": 0.02483,
     "end_time": "2023-04-24T03:52:39.857559",
     "exception": false,
     "start_time": "2023-04-24T03:52:39.832729",
     "status": "completed"
    },
    "tags": []
   },
   "outputs": [
    {
     "name": "stdout",
     "output_type": "stream",
     "text": [
      "5\n"
     ]
    }
   ],
   "source": [
    "def f(x):\n",
    "    y = abs(x)\n",
    "    return y\n",
    "\n",
    "print(f(5))"
   ]
  },
  {
   "cell_type": "markdown",
   "id": "3e2a7dfc",
   "metadata": {
    "papermill": {
     "duration": 0.008569,
     "end_time": "2023-04-24T03:52:39.876945",
     "exception": false,
     "start_time": "2023-04-24T03:52:39.868376",
     "status": "completed"
    },
    "tags": []
   },
   "source": [
    "# Keep Going\n",
    "\n",
    "Nice job with the code. Next up, you'll learn about *conditionals*, which you'll need to **[write interesting programs](https://www.kaggle.com/colinmorris/booleans-and-conditionals)**. "
   ]
  },
  {
   "cell_type": "markdown",
   "id": "8b47bd62",
   "metadata": {
    "papermill": {
     "duration": 0.010621,
     "end_time": "2023-04-24T03:52:39.895128",
     "exception": false,
     "start_time": "2023-04-24T03:52:39.884507",
     "status": "completed"
    },
    "tags": []
   },
   "source": [
    "---\n",
    "\n",
    "\n",
    "\n",
    "\n",
    "*Have questions or comments? Visit the [course discussion forum](https://www.kaggle.com/learn/python/discussion) to chat with other learners.*"
   ]
  }
 ],
 "metadata": {
  "kernelspec": {
   "display_name": "Python 3",
   "language": "python",
   "name": "python3"
  },
  "language_info": {
   "codemirror_mode": {
    "name": "ipython",
    "version": 3
   },
   "file_extension": ".py",
   "mimetype": "text/x-python",
   "name": "python",
   "nbconvert_exporter": "python",
   "pygments_lexer": "ipython3",
   "version": "3.7.12"
  },
  "papermill": {
   "default_parameters": {},
   "duration": 11.664839,
   "end_time": "2023-04-24T03:52:40.626468",
   "environment_variables": {},
   "exception": null,
   "input_path": "__notebook__.ipynb",
   "output_path": "__notebook__.ipynb",
   "parameters": {},
   "start_time": "2023-04-24T03:52:28.961629",
   "version": "2.4.0"
  }
 },
 "nbformat": 4,
 "nbformat_minor": 5
}
