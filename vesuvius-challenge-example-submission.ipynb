{
 "cells": [
  {
   "cell_type": "markdown",
   "id": "21c9bb6f",
   "metadata": {
    "papermill": {
     "duration": 0.006026,
     "end_time": "2023-04-26T11:38:30.452359",
     "exception": false,
     "start_time": "2023-04-26T11:38:30.446333",
     "status": "completed"
    },
    "tags": []
   },
   "source": [
    "### Imports"
   ]
  },
  {
   "cell_type": "code",
   "execution_count": 1,
   "id": "fd5bce7f",
   "metadata": {
    "execution": {
     "iopub.execute_input": "2023-04-26T11:38:30.465170Z",
     "iopub.status.busy": "2023-04-26T11:38:30.464080Z",
     "iopub.status.idle": "2023-04-26T11:38:33.561554Z",
     "shell.execute_reply": "2023-04-26T11:38:33.560517Z"
    },
    "papermill": {
     "duration": 3.107013,
     "end_time": "2023-04-26T11:38:33.564431",
     "exception": false,
     "start_time": "2023-04-26T11:38:30.457418",
     "status": "completed"
    },
    "tags": []
   },
   "outputs": [],
   "source": [
    "import os\n",
    "import gc\n",
    "import glob\n",
    "import json\n",
    "from collections import defaultdict\n",
    "import multiprocessing as mp\n",
    "from pathlib import Path\n",
    "from types import SimpleNamespace\n",
    "from typing import Dict, List, Optional, Tuple\n",
    "import warnings\n",
    "\n",
    "import matplotlib.pyplot as plt\n",
    "import matplotlib.patches as patches\n",
    "import numpy as np\n",
    "import pandas as pd\n",
    "import PIL.Image as Image\n",
    "from sklearn.metrics import fbeta_score\n",
    "from sklearn.exceptions import UndefinedMetricWarning\n",
    "import torch\n",
    "import torch.nn as nn\n",
    "import torch.optim as optim\n",
    "import torch.utils.data as thd\n",
    "from tqdm import tqdm"
   ]
  },
  {
   "cell_type": "markdown",
   "id": "949a8fc4",
   "metadata": {
    "papermill": {
     "duration": 0.004875,
     "end_time": "2023-04-26T11:38:33.576115",
     "exception": false,
     "start_time": "2023-04-26T11:38:33.571240",
     "status": "completed"
    },
    "tags": []
   },
   "source": [
    "### Set up data"
   ]
  },
  {
   "cell_type": "code",
   "execution_count": 2,
   "id": "9a67743a",
   "metadata": {
    "execution": {
     "iopub.execute_input": "2023-04-26T11:38:33.587867Z",
     "iopub.status.busy": "2023-04-26T11:38:33.587390Z",
     "iopub.status.idle": "2023-04-26T11:38:33.611832Z",
     "shell.execute_reply": "2023-04-26T11:38:33.610766Z"
    },
    "papermill": {
     "duration": 0.032899,
     "end_time": "2023-04-26T11:38:33.613995",
     "exception": false,
     "start_time": "2023-04-26T11:38:33.581096",
     "status": "completed"
    },
    "tags": []
   },
   "outputs": [],
   "source": [
    "class SubvolumeDataset(thd.Dataset):\n",
    "    def __init__(\n",
    "        self,\n",
    "        fragments: List[Path],\n",
    "        voxel_shape: Tuple[int, int, int],\n",
    "        load_inklabels: bool = True,\n",
    "        filter_edge_pixels: bool = False,\n",
    "    ):\n",
    "        self.fragments = sorted(map(lambda path: path.resolve(), fragments))\n",
    "        self.voxel_shape = voxel_shape\n",
    "        self.load_inklabels = load_inklabels\n",
    "        self.filter_edge_pixels = filter_edge_pixels\n",
    "\n",
    "        # Load sequentially\n",
    "        labels = []\n",
    "        image_stacks = []\n",
    "        valid_pixels = []\n",
    "        for fragment_id, fragment_path in enumerate(self.fragments):\n",
    "            fragment_path = fragment_path.resolve()  # absolute path\n",
    "            mask = np.array(Image.open(str(fragment_path / \"mask.png\")).convert(\"1\"))\n",
    "\n",
    "            surface_volume_paths = sorted(\n",
    "                (fragment_path / \"surface_volume\").rglob(\"*.tif\")\n",
    "            )\n",
    "            z_dim, y_dim, x_dim = voxel_shape\n",
    "\n",
    "            z_mid = len(surface_volume_paths) // 2\n",
    "            z_start, z_end = z_mid - z_dim // 2, z_mid + z_dim // 2\n",
    "\n",
    "            # we don't convert to torch since it doesn't support uint16\n",
    "            images = [\n",
    "                np.array(Image.open(fn)) for fn in surface_volume_paths[z_start:z_end]\n",
    "            ]\n",
    "            image_stack = np.stack(images, axis=0)\n",
    "            image_stacks.append(image_stack)\n",
    "\n",
    "            pixels = np.stack(np.where(mask == 1), axis=1).astype(np.uint16)\n",
    "            if filter_edge_pixels:\n",
    "                height, width = mask.shape\n",
    "                mask_y = np.logical_or(\n",
    "                    pixels[:, 0] < y_dim // 2, pixels[:, 0] >= height - y_dim // 2\n",
    "                )\n",
    "                mask_x = np.logical_or(\n",
    "                    pixels[:, 1] < x_dim // 2, pixels[:, 1] >= width - x_dim // 2\n",
    "                )\n",
    "                pixel_mask = np.logical_or(mask_y, mask_x)\n",
    "                pixels = pixels[~pixel_mask]\n",
    "            # encode fragment ID\n",
    "            fragment_ids = np.full_like(pixels[:, 0:1], fragment_id)\n",
    "            pixels = np.concatenate((pixels, fragment_ids), axis=1)\n",
    "            valid_pixels.append(pixels)\n",
    "\n",
    "            if load_inklabels:\n",
    "                # binary mask can be stored as np.bool\n",
    "                inklabels = (\n",
    "                    np.array(Image.open(str(fragment_path / \"inklabels.png\"))) > 0\n",
    "                )\n",
    "                labels.append(inklabels)\n",
    "\n",
    "            print(f\"Loaded fragment {fragment_path} on {os.getpid()}\")\n",
    "\n",
    "        self.labels = labels\n",
    "        self.image_stacks = image_stacks\n",
    "        self.pixels = np.concatenate(valid_pixels).reshape(\n",
    "            -1, valid_pixels[0].shape[-1]\n",
    "        )\n",
    "\n",
    "    def __len__(self):\n",
    "        return len(self.pixels)\n",
    "\n",
    "    def __getitem__(self, index):\n",
    "        center_y, center_x, fragment_id = self.pixels[index]\n",
    "        z_dim, y_dim, x_dim = self.voxel_shape\n",
    "        image_stack = self.image_stacks[fragment_id]\n",
    "        _, height, width = image_stack.shape\n",
    "\n",
    "        # pad with zeros if necessary\n",
    "        if (\n",
    "            center_y < y_dim // 2\n",
    "            or center_x < x_dim // 2\n",
    "            or center_y + y_dim // 2 >= height\n",
    "            or center_x + x_dim // 2 >= width\n",
    "        ):\n",
    "            # calculate the upper-left corner of the sub-volume\n",
    "            y_start = max(center_y - y_dim // 2, 0)\n",
    "            x_start = max(center_x - x_dim // 2, 0)\n",
    "\n",
    "            # calculate the lower-right corner of the sub-volume\n",
    "            y_end = min(center_y + y_dim // 2, height)\n",
    "            x_end = min(center_x + x_dim // 2, width)\n",
    "\n",
    "            subvolume = np.zeros(self.voxel_shape, dtype=np.float32)\n",
    "\n",
    "            pad_y_start = max(y_dim // 2 - center_y, 0)\n",
    "            pad_x_start = max(x_dim // 2 - center_x, 0)\n",
    "\n",
    "            pad_y_end = min(height + y_dim // 2 - center_y, y_dim)\n",
    "            pad_x_end = min(width + x_dim // 2 - center_x, x_dim)\n",
    "\n",
    "            subvolume[:, pad_y_start:pad_y_end, pad_x_start:pad_x_end] = (\n",
    "                image_stack[:, y_start:y_end, x_start:x_end].astype(np.float32) / 65535\n",
    "            )\n",
    "\n",
    "        else:\n",
    "            subvolume = (\n",
    "                image_stack[\n",
    "                    :,\n",
    "                    center_y - y_dim // 2 : center_y + y_dim // 2,\n",
    "                    center_x - x_dim // 2 : center_x + x_dim // 2,\n",
    "                ]\n",
    "            ).astype(np.float32) / 65535\n",
    "        if self.load_inklabels:\n",
    "            inklabel = float(self.labels[fragment_id][center_y, center_x])\n",
    "        else:\n",
    "            inklabel = -1.0\n",
    "\n",
    "        return torch.from_numpy(subvolume).unsqueeze(0), torch.FloatTensor([inklabel])\n",
    "\n",
    "    def plot_label(self, index, **kwargs):\n",
    "        pixel = self.pixels[index]\n",
    "        label = self.labels[pixel[-1]]\n",
    "\n",
    "        print(\"Index:\", index)\n",
    "        print(\"Pixel:\", pixel)\n",
    "        print(\"Label:\", int(label[pixel[0], pixel[1]]))\n",
    "\n",
    "        if isinstance(label, torch.Tensor):\n",
    "            label = label.numpy()\n",
    "\n",
    "        fig, ax = plt.subplots(**kwargs)\n",
    "        ax.imshow(label, cmap=\"gray\")\n",
    "\n",
    "        y, x, _ = pixel\n",
    "        _, y_dim, x_dim = self.voxel_shape\n",
    "        x_min = x - (x_dim // 2)\n",
    "        x_max = x + (x_dim // 2)\n",
    "        y_min = y - (y_dim // 2)\n",
    "        y_max = y + (y_dim // 2)\n",
    "\n",
    "        rect = plt.Rectangle(\n",
    "            (x_min, y_min), x_dim, y_dim, linewidth=2, edgecolor=\"y\", facecolor=\"none\"\n",
    "        )\n",
    "        ax.add_patch(rect)\n",
    "        plt.show()"
   ]
  },
  {
   "cell_type": "code",
   "execution_count": 3,
   "id": "2bd54fa6",
   "metadata": {
    "execution": {
     "iopub.execute_input": "2023-04-26T11:38:33.625633Z",
     "iopub.status.busy": "2023-04-26T11:38:33.625156Z",
     "iopub.status.idle": "2023-04-26T11:38:33.641306Z",
     "shell.execute_reply": "2023-04-26T11:38:33.640101Z"
    },
    "papermill": {
     "duration": 0.025219,
     "end_time": "2023-04-26T11:38:33.644238",
     "exception": false,
     "start_time": "2023-04-26T11:38:33.619019",
     "status": "completed"
    },
    "tags": []
   },
   "outputs": [
    {
     "name": "stdout",
     "output_type": "stream",
     "text": [
      "All fragments: ['1', '2', '3']\n"
     ]
    },
    {
     "data": {
      "text/plain": [
       "[PosixPath('/kaggle/input/vesuvius-challenge/train/1')]"
      ]
     },
     "execution_count": 3,
     "metadata": {},
     "output_type": "execute_result"
    }
   ],
   "source": [
    "base_path = Path(\"/kaggle/input/vesuvius-challenge/\")\n",
    "train_path = base_path / \"train\"\n",
    "all_fragments = sorted([f.name for f in train_path.iterdir()])\n",
    "print(\"All fragments:\", all_fragments)\n",
    "# Due to limited memory on Kaggle, we can only load 1 full fragment\n",
    "train_fragments = [train_path / fragment_name for fragment_name in [\"1\"]]\n",
    "train_fragments"
   ]
  },
  {
   "cell_type": "code",
   "execution_count": 4,
   "id": "c5926f41",
   "metadata": {
    "execution": {
     "iopub.execute_input": "2023-04-26T11:38:33.655966Z",
     "iopub.status.busy": "2023-04-26T11:38:33.655411Z",
     "iopub.status.idle": "2023-04-26T11:39:42.719299Z",
     "shell.execute_reply": "2023-04-26T11:39:42.705512Z"
    },
    "papermill": {
     "duration": 69.073395,
     "end_time": "2023-04-26T11:39:42.722801",
     "exception": false,
     "start_time": "2023-04-26T11:38:33.649406",
     "status": "completed"
    },
    "tags": []
   },
   "outputs": [
    {
     "name": "stdout",
     "output_type": "stream",
     "text": [
      "Loaded fragment /kaggle/input/vesuvius-challenge/train/1 on 24\n",
      "Num items (pixels) 29135930\n",
      "CPU times: user 6.86 s, sys: 13.4 s, total: 20.3 s\n",
      "Wall time: 1min 9s\n"
     ]
    }
   ],
   "source": [
    "%%time\n",
    "train_dset = SubvolumeDataset(fragments=train_fragments, voxel_shape=(48, 64, 64), filter_edge_pixels=True)\n",
    "print(\"Num items (pixels)\", len(train_dset))"
   ]
  },
  {
   "cell_type": "markdown",
   "id": "a4e5f3c7",
   "metadata": {
    "papermill": {
     "duration": 0.006649,
     "end_time": "2023-04-26T11:39:42.737268",
     "exception": false,
     "start_time": "2023-04-26T11:39:42.730619",
     "status": "completed"
    },
    "tags": []
   },
   "source": [
    "#### Sanity check "
   ]
  },
  {
   "cell_type": "code",
   "execution_count": 5,
   "id": "ce4a4b35",
   "metadata": {
    "execution": {
     "iopub.execute_input": "2023-04-26T11:39:42.753313Z",
     "iopub.status.busy": "2023-04-26T11:39:42.752918Z",
     "iopub.status.idle": "2023-04-26T11:39:45.993680Z",
     "shell.execute_reply": "2023-04-26T11:39:45.992659Z"
    },
    "papermill": {
     "duration": 3.252382,
     "end_time": "2023-04-26T11:39:45.996996",
     "exception": false,
     "start_time": "2023-04-26T11:39:42.744614",
     "status": "completed"
    },
    "tags": []
   },
   "outputs": [
    {
     "name": "stdout",
     "output_type": "stream",
     "text": [
      "Index: 6136130\n",
      "Pixel: [1773 2999    0]\n",
      "Label: 1\n"
     ]
    },
    {
     "data": {
      "image/png": "[encoded data removed]",
      "text/plain": [
       "<Figure size 1600x1000 with 1 Axes>"
      ]
     },
     "metadata": {},
     "output_type": "display_data"
    }
   ],
   "source": [
    "index = 6136130\n",
    "train_dset.plot_label(index, figsize=(16, 10))"
   ]
  },
  {
   "cell_type": "code",
   "execution_count": 6,
   "id": "2d640c8a",
   "metadata": {
    "execution": {
     "iopub.execute_input": "2023-04-26T11:39:46.011531Z",
     "iopub.status.busy": "2023-04-26T11:39:46.011205Z",
     "iopub.status.idle": "2023-04-26T11:39:46.016866Z",
     "shell.execute_reply": "2023-04-26T11:39:46.015802Z"
    },
    "papermill": {
     "duration": 0.016041,
     "end_time": "2023-04-26T11:39:46.019617",
     "exception": false,
     "start_time": "2023-04-26T11:39:46.003576",
     "status": "completed"
    },
    "tags": []
   },
   "outputs": [
    {
     "name": "stdout",
     "output_type": "stream",
     "text": [
      "Num batches: 910498\n"
     ]
    }
   ],
   "source": [
    "BATCH_SIZE = 32\n",
    "train_loader = thd.DataLoader(train_dset, batch_size=BATCH_SIZE, shuffle=True)\n",
    "print(\"Num batches:\", len(train_loader))"
   ]
  },
  {
   "cell_type": "markdown",
   "id": "c51d0fd9",
   "metadata": {
    "papermill": {
     "duration": 0.006328,
     "end_time": "2023-04-26T11:39:46.032155",
     "exception": false,
     "start_time": "2023-04-26T11:39:46.025827",
     "status": "completed"
    },
    "tags": []
   },
   "source": [
    "### Set up model"
   ]
  },
  {
   "cell_type": "code",
   "execution_count": 7,
   "id": "0866c9cc",
   "metadata": {
    "execution": {
     "iopub.execute_input": "2023-04-26T11:39:46.046607Z",
     "iopub.status.busy": "2023-04-26T11:39:46.045695Z",
     "iopub.status.idle": "2023-04-26T11:39:46.111382Z",
     "shell.execute_reply": "2023-04-26T11:39:46.110336Z"
    },
    "papermill": {
     "duration": 0.075098,
     "end_time": "2023-04-26T11:39:46.113588",
     "exception": false,
     "start_time": "2023-04-26T11:39:46.038490",
     "status": "completed"
    },
    "tags": []
   },
   "outputs": [],
   "source": [
    "DEVICE = torch.device(\"cuda\" if torch.cuda.is_available() else \"cpu\")"
   ]
  },
  {
   "cell_type": "code",
   "execution_count": 8,
   "id": "9f2b4f5a",
   "metadata": {
    "execution": {
     "iopub.execute_input": "2023-04-26T11:39:46.128656Z",
     "iopub.status.busy": "2023-04-26T11:39:46.127837Z",
     "iopub.status.idle": "2023-04-26T11:39:46.137532Z",
     "shell.execute_reply": "2023-04-26T11:39:46.136632Z"
    },
    "papermill": {
     "duration": 0.01968,
     "end_time": "2023-04-26T11:39:46.139929",
     "exception": false,
     "start_time": "2023-04-26T11:39:46.120249",
     "status": "completed"
    },
    "tags": []
   },
   "outputs": [],
   "source": [
    "class InkDetector(torch.nn.Module):\n",
    "    def __init__(self):\n",
    "        super().__init__()\n",
    "\n",
    "        filters = [16, 32, 64]\n",
    "        paddings = [1, 1, 1]\n",
    "        kernel_sizes = [3, 3, 3]\n",
    "        strides = [2, 2, 2]\n",
    "        \n",
    "        layers = []\n",
    "        in_channels = 1\n",
    "        for num_filters, padding, kernel_size, stride in zip(filters, paddings, kernel_sizes, strides):\n",
    "            layers.extend([\n",
    "                nn.Conv3d(\n",
    "                    in_channels=in_channels,\n",
    "                    out_channels=num_filters,\n",
    "                    kernel_size=kernel_size,\n",
    "                    stride=stride,\n",
    "                    padding=padding,\n",
    "                ),\n",
    "                nn.ReLU(inplace=True),\n",
    "                torch.nn.BatchNorm3d(num_features=num_filters)\n",
    "            ])\n",
    "            in_channels = num_filters\n",
    "        layers.append(nn.AdaptiveAvgPool3d(1))\n",
    "        layers.append(nn.Flatten())\n",
    "\n",
    "        self.encoder = nn.Sequential(*layers)\n",
    "        self.decoder = nn.Sequential(\n",
    "            nn.Linear(in_channels, 128),\n",
    "            nn.ReLU(inplace=True),\n",
    "            nn.Linear(128, 128),\n",
    "            nn.ReLU(inplace=True),\n",
    "            nn.Linear(128, 1)\n",
    "        )\n",
    "\n",
    "    def forward(self, x):\n",
    "        features = self.encoder(x)\n",
    "        return self.decoder(features)"
   ]
  },
  {
   "cell_type": "code",
   "execution_count": 9,
   "id": "db7d99a9",
   "metadata": {
    "execution": {
     "iopub.execute_input": "2023-04-26T11:39:46.154048Z",
     "iopub.status.busy": "2023-04-26T11:39:46.153776Z",
     "iopub.status.idle": "2023-04-26T11:39:48.885871Z",
     "shell.execute_reply": "2023-04-26T11:39:48.884829Z"
    },
    "papermill": {
     "duration": 2.742218,
     "end_time": "2023-04-26T11:39:48.888413",
     "exception": false,
     "start_time": "2023-04-26T11:39:46.146195",
     "status": "completed"
    },
    "tags": []
   },
   "outputs": [],
   "source": [
    "model = InkDetector().to(DEVICE)"
   ]
  },
  {
   "cell_type": "markdown",
   "id": "79905f39",
   "metadata": {
    "papermill": {
     "duration": 0.006342,
     "end_time": "2023-04-26T11:39:48.901499",
     "exception": false,
     "start_time": "2023-04-26T11:39:48.895157",
     "status": "completed"
    },
    "tags": []
   },
   "source": [
    "### Train"
   ]
  },
  {
   "cell_type": "code",
   "execution_count": 10,
   "id": "2059565e",
   "metadata": {
    "execution": {
     "iopub.execute_input": "2023-04-26T11:39:48.916504Z",
     "iopub.status.busy": "2023-04-26T11:39:48.916132Z",
     "iopub.status.idle": "2023-04-26T11:39:48.920700Z",
     "shell.execute_reply": "2023-04-26T11:39:48.919673Z"
    },
    "papermill": {
     "duration": 0.015238,
     "end_time": "2023-04-26T11:39:48.923106",
     "exception": false,
     "start_time": "2023-04-26T11:39:48.907868",
     "status": "completed"
    },
    "tags": []
   },
   "outputs": [],
   "source": [
    "TRAINING_STEPS = 60000\n",
    "LEARNING_RATE = 1e-3\n",
    "TRAIN_RUN = True # To avoid re-running when saving the notebook"
   ]
  },
  {
   "cell_type": "code",
   "execution_count": 11,
   "id": "b47a2531",
   "metadata": {
    "execution": {
     "iopub.execute_input": "2023-04-26T11:39:48.937059Z",
     "iopub.status.busy": "2023-04-26T11:39:48.936744Z",
     "iopub.status.idle": "2023-04-26T11:39:48.942787Z",
     "shell.execute_reply": "2023-04-26T11:39:48.941902Z"
    },
    "papermill": {
     "duration": 0.015306,
     "end_time": "2023-04-26T11:39:48.944819",
     "exception": false,
     "start_time": "2023-04-26T11:39:48.929513",
     "status": "completed"
    },
    "tags": []
   },
   "outputs": [],
   "source": [
    "warnings.simplefilter('ignore', UndefinedMetricWarning)"
   ]
  },
  {
   "cell_type": "code",
   "execution_count": 12,
   "id": "250f0991",
   "metadata": {
    "execution": {
     "iopub.execute_input": "2023-04-26T11:39:48.959673Z",
     "iopub.status.busy": "2023-04-26T11:39:48.958779Z",
     "iopub.status.idle": "2023-04-26T12:30:41.255910Z",
     "shell.execute_reply": "2023-04-26T12:30:41.254745Z"
    },
    "papermill": {
     "duration": 3052.3069,
     "end_time": "2023-04-26T12:30:41.258314",
     "exception": false,
     "start_time": "2023-04-26T11:39:48.951414",
     "status": "completed"
    },
    "tags": []
   },
   "outputs": [
    {
     "name": "stderr",
     "output_type": "stream",
     "text": [
      "100%|██████████| 60000/60000 [50:52<00:00, 19.66it/s, Loss=0.237, Accuracy=0.903, Fbeta@0.5=0.738]\n"
     ]
    }
   ],
   "source": [
    "if TRAIN_RUN:\n",
    "    criterion = nn.BCEWithLogitsLoss()\n",
    "    optimizer = optim.SGD(model.parameters(), lr=LEARNING_RATE)\n",
    "    scheduler = torch.optim.lr_scheduler.OneCycleLR(optimizer, max_lr=LEARNING_RATE, total_steps=TRAINING_STEPS)\n",
    "    model.train()\n",
    "    running_loss = 0.0\n",
    "    running_accuracy = 0.0\n",
    "    running_fbeta = 0.0\n",
    "    denom = 0\n",
    "    pbar = tqdm(enumerate(train_loader), total=TRAINING_STEPS)\n",
    "    for i, (subvolumes, inklabels) in pbar:\n",
    "        if i >= TRAINING_STEPS:\n",
    "            break\n",
    "        optimizer.zero_grad()\n",
    "        outputs = model(subvolumes.to(DEVICE))\n",
    "        loss = criterion(outputs, inklabels.to(DEVICE))\n",
    "        loss.backward()\n",
    "        optimizer.step()\n",
    "        scheduler.step()\n",
    "        pred_ink = outputs.detach().sigmoid().gt(0.4).cpu().int()\n",
    "        accuracy = (pred_ink == inklabels).sum().float().div(inklabels.size(0))\n",
    "        running_fbeta += fbeta_score(inklabels.view(-1).numpy(), pred_ink.view(-1).numpy(), beta=0.5)\n",
    "        running_accuracy += accuracy.item()\n",
    "        running_loss += loss.item()\n",
    "        denom += 1\n",
    "        pbar.set_postfix({\"Loss\": running_loss / denom, \"Accuracy\": running_accuracy / denom, \"Fbeta@0.5\": running_fbeta / denom})\n",
    "        if (i + 1) % 500 == 0:\n",
    "            running_loss = 0.\n",
    "            running_accuracy = 0.\n",
    "            running_fbeta = 0.\n",
    "            denom = 0\n",
    "\n",
    "    torch.save(model.state_dict(), \"/kaggle/working/model.pt\")\n",
    "\n",
    "else:\n",
    "    model_weights = torch.load(\"/kaggle/working/model.pt\")\n",
    "    model.load_state_dict(model_weights)"
   ]
  },
  {
   "cell_type": "markdown",
   "id": "38a5d6a4",
   "metadata": {
    "papermill": {
     "duration": 4.676439,
     "end_time": "2023-04-26T12:30:50.692115",
     "exception": false,
     "start_time": "2023-04-26T12:30:46.015676",
     "status": "completed"
    },
    "tags": []
   },
   "source": [
    "### Evaluate"
   ]
  },
  {
   "cell_type": "code",
   "execution_count": 13,
   "id": "14d246fb",
   "metadata": {
    "execution": {
     "iopub.execute_input": "2023-04-26T12:31:00.197249Z",
     "iopub.status.busy": "2023-04-26T12:31:00.196883Z",
     "iopub.status.idle": "2023-04-26T12:31:00.700612Z",
     "shell.execute_reply": "2023-04-26T12:31:00.699382Z"
    },
    "papermill": {
     "duration": 5.281613,
     "end_time": "2023-04-26T12:31:00.703781",
     "exception": false,
     "start_time": "2023-04-26T12:30:55.422168",
     "status": "completed"
    },
    "tags": []
   },
   "outputs": [
    {
     "data": {
      "text/plain": [
       "3873"
      ]
     },
     "execution_count": 13,
     "metadata": {},
     "output_type": "execute_result"
    }
   ],
   "source": [
    "# Clear memory before loading test fragments\n",
    "train_dset.labels = None\n",
    "train_dset.image_stacks = []\n",
    "del train_loader, train_dset\n",
    "gc.collect()"
   ]
  },
  {
   "cell_type": "code",
   "execution_count": 14,
   "id": "8f13dcb5",
   "metadata": {
    "execution": {
     "iopub.execute_input": "2023-04-26T12:31:10.439199Z",
     "iopub.status.busy": "2023-04-26T12:31:10.438644Z",
     "iopub.status.idle": "2023-04-26T12:31:10.449639Z",
     "shell.execute_reply": "2023-04-26T12:31:10.448518Z"
    },
    "papermill": {
     "duration": 5.230997,
     "end_time": "2023-04-26T12:31:10.451849",
     "exception": false,
     "start_time": "2023-04-26T12:31:05.220852",
     "status": "completed"
    },
    "tags": []
   },
   "outputs": [
    {
     "name": "stdout",
     "output_type": "stream",
     "text": [
      "All fragments: [PosixPath('/kaggle/input/vesuvius-challenge/test/b'), PosixPath('/kaggle/input/vesuvius-challenge/test/a')]\n"
     ]
    }
   ],
   "source": [
    "test_path = base_path / \"test\"\n",
    "test_fragments = [train_path / fragment_name for fragment_name in test_path.iterdir()]\n",
    "print(\"All fragments:\", test_fragments)"
   ]
  },
  {
   "cell_type": "code",
   "execution_count": 15,
   "id": "208a98ea",
   "metadata": {
    "execution": {
     "iopub.execute_input": "2023-04-26T12:31:19.971887Z",
     "iopub.status.busy": "2023-04-26T12:31:19.971264Z",
     "iopub.status.idle": "2023-04-26T18:39:54.994409Z",
     "shell.execute_reply": "2023-04-26T18:39:54.991691Z"
    },
    "papermill": {
     "duration": 22119.956713,
     "end_time": "2023-04-26T18:39:54.996894",
     "exception": false,
     "start_time": "2023-04-26T12:31:15.040181",
     "status": "completed"
    },
    "tags": []
   },
   "outputs": [
    {
     "name": "stdout",
     "output_type": "stream",
     "text": [
      "Loaded fragment /kaggle/input/vesuvius-challenge/test/b on 24\n"
     ]
    },
    {
     "name": "stderr",
     "output_type": "stream",
     "text": [
      "100%|██████████| 572623/572623 [3:52:45<00:00, 41.00it/s]\n"
     ]
    },
    {
     "name": "stdout",
     "output_type": "stream",
     "text": [
      "Finished /kaggle/input/vesuvius-challenge/test/b\n",
      "Loaded fragment /kaggle/input/vesuvius-challenge/test/a on 24\n"
     ]
    },
    {
     "name": "stderr",
     "output_type": "stream",
     "text": [
      "100%|██████████| 338092/338092 [2:13:16<00:00, 42.28it/s]\n"
     ]
    },
    {
     "name": "stdout",
     "output_type": "stream",
     "text": [
      "Finished /kaggle/input/vesuvius-challenge/test/a\n"
     ]
    }
   ],
   "source": [
    "pred_images = []\n",
    "model.eval()\n",
    "for test_fragment in test_fragments:\n",
    "    outputs = []\n",
    "    eval_dset = SubvolumeDataset(fragments=[test_fragment], voxel_shape=(48, 64, 64), load_inklabels=False)\n",
    "    eval_loader = thd.DataLoader(eval_dset, batch_size=BATCH_SIZE, shuffle=False)\n",
    "    with torch.no_grad():\n",
    "        for i, (subvolumes, _) in enumerate(tqdm(eval_loader)):\n",
    "            output = model(subvolumes.to(DEVICE)).view(-1).sigmoid().cpu().numpy()\n",
    "            outputs.append(output)\n",
    "    # we only load 1 fragment at a time\n",
    "    image_shape = eval_dset.image_stacks[0].shape[1:]\n",
    "    eval_dset.labels = None\n",
    "    eval_dset.image_stacks = None\n",
    "    del eval_loader\n",
    "    gc.collect()\n",
    "\n",
    "    pred_image = np.zeros(image_shape, dtype=np.uint8)\n",
    "    outputs = np.concatenate(outputs)\n",
    "    for (y, x, _), prob in zip(eval_dset.pixels[:outputs.shape[0]], outputs):\n",
    "        pred_image[y ,x] = prob > 0.4\n",
    "    pred_images.append(pred_image)\n",
    "    \n",
    "    eval_dset.pixels = None\n",
    "    del eval_dset\n",
    "    gc.collect()\n",
    "    print(\"Finished\", test_fragment)"
   ]
  },
  {
   "cell_type": "code",
   "execution_count": 16,
   "id": "9a6307d5",
   "metadata": {
    "execution": {
     "iopub.execute_input": "2023-04-26T18:40:26.649143Z",
     "iopub.status.busy": "2023-04-26T18:40:26.648207Z",
     "iopub.status.idle": "2023-04-26T18:40:28.264774Z",
     "shell.execute_reply": "2023-04-26T18:40:28.263764Z"
    },
    "papermill": {
     "duration": 17.9027,
     "end_time": "2023-04-26T18:40:28.267358",
     "exception": false,
     "start_time": "2023-04-26T18:40:10.364658",
     "status": "completed"
    },
    "tags": []
   },
   "outputs": [
    {
     "data": {
      "text/plain": [
       "<matplotlib.image.AxesImage at 0x79e48928f350>"
      ]
     },
     "execution_count": 16,
     "metadata": {},
     "output_type": "execute_result"
    },
    {
     "data": {
      "image/png": "[encoded data removed]",
      "text/plain": [
       "<Figure size 640x480 with 1 Axes>"
      ]
     },
     "metadata": {},
     "output_type": "display_data"
    }
   ],
   "source": [
    "plt.imshow(pred_images[1], cmap='gray')"
   ]
  },
  {
   "cell_type": "markdown",
   "id": "cf7de323",
   "metadata": {
    "papermill": {
     "duration": 15.892991,
     "end_time": "2023-04-26T18:40:59.445304",
     "exception": false,
     "start_time": "2023-04-26T18:40:43.552313",
     "status": "completed"
    },
    "tags": []
   },
   "source": [
    "### Submission"
   ]
  },
  {
   "cell_type": "code",
   "execution_count": 17,
   "id": "56c8b455",
   "metadata": {
    "execution": {
     "iopub.execute_input": "2023-04-26T18:41:31.372131Z",
     "iopub.status.busy": "2023-04-26T18:41:31.371763Z",
     "iopub.status.idle": "2023-04-26T18:41:31.378673Z",
     "shell.execute_reply": "2023-04-26T18:41:31.377526Z"
    },
    "papermill": {
     "duration": 16.341927,
     "end_time": "2023-04-26T18:41:31.380796",
     "exception": false,
     "start_time": "2023-04-26T18:41:15.038869",
     "status": "completed"
    },
    "tags": []
   },
   "outputs": [],
   "source": [
    "def rle(output):\n",
    "    flat_img = np.where(output > 0.4, 1, 0).astype(np.uint8)\n",
    "    starts = np.array((flat_img[:-1] == 0) & (flat_img[1:] == 1))\n",
    "    ends = np.array((flat_img[:-1] == 1) & (flat_img[1:] == 0))\n",
    "    starts_ix = np.where(starts)[0] + 2\n",
    "    ends_ix = np.where(ends)[0] + 2\n",
    "    lengths = ends_ix - starts_ix\n",
    "    return \" \".join(map(str, sum(zip(starts_ix, lengths), ())))"
   ]
  },
  {
   "cell_type": "code",
   "execution_count": 18,
   "id": "c93f0abd",
   "metadata": {
    "execution": {
     "iopub.execute_input": "2023-04-26T18:42:02.780062Z",
     "iopub.status.busy": "2023-04-26T18:42:02.779470Z",
     "iopub.status.idle": "2023-04-26T18:58:13.335467Z",
     "shell.execute_reply": "2023-04-26T18:58:13.334390Z"
    },
    "papermill": {
     "duration": 986.693879,
     "end_time": "2023-04-26T18:58:13.338191",
     "exception": false,
     "start_time": "2023-04-26T18:41:46.644312",
     "status": "completed"
    },
    "tags": []
   },
   "outputs": [],
   "source": [
    "submission = defaultdict(list)\n",
    "for fragment_id, fragment_name in enumerate(test_fragments):\n",
    "    submission[\"Id\"].append(fragment_name.name)\n",
    "    submission[\"Predicted\"].append(rle(pred_images[fragment_id]))\n",
    "\n",
    "pd.DataFrame.from_dict(submission).to_csv(\"/kaggle/working/submission.csv\", index=False)"
   ]
  },
  {
   "cell_type": "code",
   "execution_count": 19,
   "id": "4685045a",
   "metadata": {
    "execution": {
     "iopub.execute_input": "2023-04-26T18:58:45.285758Z",
     "iopub.status.busy": "2023-04-26T18:58:45.284721Z",
     "iopub.status.idle": "2023-04-26T18:58:45.319470Z",
     "shell.execute_reply": "2023-04-26T18:58:45.318347Z"
    },
    "papermill": {
     "duration": 15.602585,
     "end_time": "2023-04-26T18:58:45.321633",
     "exception": false,
     "start_time": "2023-04-26T18:58:29.719048",
     "status": "completed"
    },
    "tags": []
   },
   "outputs": [
    {
     "data": {
      "text/html": [
       "<div>\n",
       "<style scoped>\n",
       "    .dataframe tbody tr th:only-of-type {\n",
       "        vertical-align: middle;\n",
       "    }\n",
       "\n",
       "    .dataframe tbody tr th {\n",
       "        vertical-align: top;\n",
       "    }\n",
       "\n",
       "    .dataframe thead th {\n",
       "        text-align: right;\n",
       "    }\n",
       "</style>\n",
       "<table border=\"1\" class=\"dataframe\">\n",
       "  <thead>\n",
       "    <tr style=\"text-align: right;\">\n",
       "      <th></th>\n",
       "      <th>Id</th>\n",
       "      <th>Predicted</th>\n",
       "    </tr>\n",
       "  </thead>\n",
       "  <tbody>\n",
       "    <tr>\n",
       "      <th>0</th>\n",
       "      <td>b</td>\n",
       "      <td>2 1 2 1 2 1 2 1 2 1 2 1 2 1 2 1 2 1 2 1 2 1 2 ...</td>\n",
       "    </tr>\n",
       "    <tr>\n",
       "      <th>1</th>\n",
       "      <td>a</td>\n",
       "      <td>105 1 105 1 105 2 105 2 105 3 105 4 105 5 105 ...</td>\n",
       "    </tr>\n",
       "  </tbody>\n",
       "</table>\n",
       "</div>"
      ],
      "text/plain": [
       "  Id                                          Predicted\n",
       "0  b  2 1 2 1 2 1 2 1 2 1 2 1 2 1 2 1 2 1 2 1 2 1 2 ...\n",
       "1  a  105 1 105 1 105 2 105 2 105 3 105 4 105 5 105 ..."
      ]
     },
     "execution_count": 19,
     "metadata": {},
     "output_type": "execute_result"
    }
   ],
   "source": [
    "pd.DataFrame.from_dict(submission)"
   ]
  }
 ],
 "metadata": {
  "kernelspec": {
   "display_name": "Python 3",
   "language": "python",
   "name": "python3"
  },
  "language_info": {
   "codemirror_mode": {
    "name": "ipython",
    "version": 3
   },
   "file_extension": ".py",
   "mimetype": "text/x-python",
   "name": "python",
   "nbconvert_exporter": "python",
   "pygments_lexer": "ipython3",
   "version": "3.7.12"
  },
  "papermill": {
   "default_parameters": {},
   "duration": 26443.238971,
   "end_time": "2023-04-26T18:59:04.817992",
   "environment_variables": {},
   "exception": null,
   "input_path": "__notebook__.ipynb",
   "output_path": "__notebook__.ipynb",
   "parameters": {},
   "start_time": "2023-04-26T11:38:21.579021",
   "version": "2.4.0"
  }
 },
 "nbformat": 4,
 "nbformat_minor": 5
}
